{
 "cells": [
  {
   "cell_type": "markdown",
   "id": "390b253f",
   "metadata": {},
   "source": [
    "# Table of Contents"
   ]
  },
  {
   "cell_type": "markdown",
   "id": "4df6c3cb",
   "metadata": {},
   "source": [
    "1. Understanding Business Case\n",
    "2. Data Understanding\n",
    "3. Data Cleaning\n",
    "4. Data Visualization\n",
    "5. Data preprocessing\n",
    "6. Building models & Evaluation\n",
    "7. Model deployment"
   ]
  },
  {
   "cell_type": "markdown",
   "id": "22e82da9",
   "metadata": {},
   "source": [
    "# 1. Introduction - Loan Default Prediction"
   ]
  },
  {
   "cell_type": "markdown",
   "id": "0944c545",
   "metadata": {},
   "source": [
    "The loan approval process is  a  challenging task for any financial institution. Before  giving credit loans to borrowers, the bank decides whether the borrower is bad (defaulter) or good (non-defaulter). This project focuses on developing  Machine  Learning  (ML)  models  to  predict  loan eligibility,  which  is  vital  in  accelerating  the  decision-making process and  determining if  an  applicant  gets  a  loan  or  not. \n",
    "\n",
    "Dream Housing Finance company deals in all home loans. They have a presence across all urban, semi-urban, and rural areas. Customer-first applies for a home loan after that company validates the customer eligibility for a loan.\n",
    "\n",
    "The company wants to automate the loan eligibility process (real-time) based on customer detail provided while filling the online application form. These details are Gender, Marital Status, Education, Number of Dependents, Income, Loan Amount, Credit History, and others. To automate this process, they have given a problem to identify the customer's segments, those are eligible for loan amount so that they can specifically target these customers. Here they have provided a partial data set.\n",
    "\n",
    "The dataset used in this project is the historical dataset 'Loan Eligible Dataset,' available on [Kaggle](https://www.kaggle.com/datasets/vikasukani/loan-eligible-dataset).\n",
    "\n"
   ]
  },
  {
   "cell_type": "markdown",
   "id": "13419dd4",
   "metadata": {},
   "source": [
    "The dataset consists of the following variables:\n",
    "\n",
    "- Loan_ID : Unique Loan ID\n",
    "- Gender : Male/ Female\n",
    "- Married : Applicant married (Y/N)\n",
    "- Dependents : Number of dependents \n",
    "- Education : Applicant Education (Graduate/ Under Graduate)\n",
    "- Self_Employed : Self employed (Y/N)\n",
    "- ApplicantIncome : Applicant income\n",
    "- CoapplicantIncome : Coapplicant income\n",
    "- LoanAmount : Loan amount in thousands of dollars\n",
    "- Loan_Amount_Term : Term of loan in months\n",
    "- Credit_History : credit history meets guidelines yes or no\n",
    "- Property_Area : Urban/ Semi Urban/ Rural\n",
    "- Loan_Status : Loan approved (Y/N) this is the target variable"
   ]
  },
  {
   "cell_type": "markdown",
   "id": "42fff485",
   "metadata": {},
   "source": [
    "This is a classification problem in which we need to classify whether the loan will be approved or not. Loan status can have two values: Yes or NO.\n",
    "\n",
    "Yes: if the loan is approved\n",
    "\n",
    "No: if the loan is not approved"
   ]
  },
  {
   "cell_type": "markdown",
   "id": "573205b2",
   "metadata": {},
   "source": [
    "## Objective of the project"
   ]
  },
  {
   "cell_type": "markdown",
   "id": "6e36d240",
   "metadata": {},
   "source": [
    "- Analyze customer data provided in data set (EDA)\n",
    "- Build various ML models that can predict loan approval"
   ]
  },
  {
   "cell_type": "markdown",
   "id": "231b05e0",
   "metadata": {},
   "source": [
    "## The ML models used in the project"
   ]
  },
  {
   "cell_type": "markdown",
   "id": "a743dd15",
   "metadata": {},
   "source": [
    "- Logistic Regression\n",
    "- Random Forest\n"
   ]
  },
  {
   "cell_type": "markdown",
   "id": "d1edfd07",
   "metadata": {},
   "source": [
    "# 2. Data Understanding"
   ]
  },
  {
   "cell_type": "markdown",
   "id": "745064a0",
   "metadata": {},
   "source": [
    "To solve this problem, we have three CSV files: train, test, and sample submission.\n",
    "\n",
    "- Train file will be used for training the model.It contains all the independent variables and the target variable.\n",
    "- Test file contains all the independent variables, but not the target variable. We will apply the model to predict the target variable for the test data.\n"
   ]
  },
  {
   "cell_type": "code",
   "execution_count": 1,
   "id": "eb69ba28",
   "metadata": {},
   "outputs": [
    {
     "name": "stdout",
     "output_type": "stream",
     "text": [
      "Requirement already satisfied: imblearn in c:\\users\\admin\\anaconda3\\lib\\site-packages (0.0)\n",
      "Requirement already satisfied: imbalanced-learn in c:\\users\\admin\\anaconda3\\lib\\site-packages (from imblearn) (0.9.1)\n",
      "Requirement already satisfied: scikit-learn>=1.1.0 in c:\\users\\admin\\anaconda3\\lib\\site-packages (from imbalanced-learn->imblearn) (1.2.0)\n",
      "Requirement already satisfied: joblib>=1.0.0 in c:\\users\\admin\\anaconda3\\lib\\site-packages (from imbalanced-learn->imblearn) (1.2.0)\n",
      "Requirement already satisfied: numpy>=1.17.3 in c:\\users\\admin\\anaconda3\\lib\\site-packages (from imbalanced-learn->imblearn) (1.20.1)\n",
      "Requirement already satisfied: scipy>=1.3.2 in c:\\users\\admin\\anaconda3\\lib\\site-packages (from imbalanced-learn->imblearn) (1.6.2)\n",
      "Requirement already satisfied: threadpoolctl>=2.0.0 in c:\\users\\admin\\anaconda3\\lib\\site-packages (from imbalanced-learn->imblearn) (2.1.0)\n"
     ]
    }
   ],
   "source": [
    "!pip3 install imblearn"
   ]
  },
  {
   "cell_type": "code",
   "execution_count": 2,
   "id": "7c9b8f04",
   "metadata": {},
   "outputs": [],
   "source": [
    "#import the necessary libraries \n",
    "import pandas as pd #data processing\n",
    "import numpy as np # linear algebra\n",
    "import matplotlib.pyplot as plt #data plot\n",
    "%matplotlib inline \n",
    "import seaborn as sns #data plot\n",
    "import warnings\n",
    "warnings.filterwarnings(\"ignore\") #ignore warning"
   ]
  },
  {
   "cell_type": "code",
   "execution_count": 3,
   "id": "bf0fba0a",
   "metadata": {},
   "outputs": [],
   "source": [
    "from sklearn.metrics import classification_report\n",
    "from sklearn.metrics import confusion_matrix\n",
    "from sklearn.preprocessing import MinMaxScaler\n",
    "from sklearn.model_selection import train_test_split\n",
    "from imblearn.over_sampling import SMOTE\n",
    "\n",
    "from sklearn.linear_model import LogisticRegression\n",
    "from sklearn.neighbors import KNeighborsClassifier\n",
    "from sklearn.svm import SVC\n",
    "from sklearn.naive_bayes import CategoricalNB\n",
    "from sklearn.naive_bayes import GaussianNB\n",
    "from sklearn.tree import DecisionTreeClassifier\n",
    "from sklearn.ensemble import RandomForestClassifier\n",
    "from sklearn.ensemble import GradientBoostingClassifier\n",
    "\n",
    "from sklearn.model_selection import GridSearchCV, RandomizedSearchCV"
   ]
  },
  {
   "cell_type": "code",
   "execution_count": 4,
   "id": "d8171400",
   "metadata": {},
   "outputs": [],
   "source": [
    "# load and read the dataset\n",
    "loan_train = pd.read_csv(\"C://Users//Admin//Downloads//loan-train.csv\")\n",
    "loan_test = pd.read_csv(\"C://Users//Admin//Downloads//loan-test.csv\")"
   ]
  },
  {
   "cell_type": "code",
   "execution_count": 5,
   "id": "3a52197b",
   "metadata": {},
   "outputs": [
    {
     "data": {
      "text/html": [
       "<div>\n",
       "<style scoped>\n",
       "    .dataframe tbody tr th:only-of-type {\n",
       "        vertical-align: middle;\n",
       "    }\n",
       "\n",
       "    .dataframe tbody tr th {\n",
       "        vertical-align: top;\n",
       "    }\n",
       "\n",
       "    .dataframe thead th {\n",
       "        text-align: right;\n",
       "    }\n",
       "</style>\n",
       "<table border=\"1\" class=\"dataframe\">\n",
       "  <thead>\n",
       "    <tr style=\"text-align: right;\">\n",
       "      <th></th>\n",
       "      <th>Loan_ID</th>\n",
       "      <th>Gender</th>\n",
       "      <th>Married</th>\n",
       "      <th>Dependents</th>\n",
       "      <th>Education</th>\n",
       "      <th>Self_Employed</th>\n",
       "      <th>ApplicantIncome</th>\n",
       "      <th>CoapplicantIncome</th>\n",
       "      <th>LoanAmount</th>\n",
       "      <th>Loan_Amount_Term</th>\n",
       "      <th>Credit_History</th>\n",
       "      <th>Property_Area</th>\n",
       "      <th>Loan_Status</th>\n",
       "    </tr>\n",
       "  </thead>\n",
       "  <tbody>\n",
       "    <tr>\n",
       "      <th>0</th>\n",
       "      <td>LP001002</td>\n",
       "      <td>Male</td>\n",
       "      <td>No</td>\n",
       "      <td>0</td>\n",
       "      <td>Graduate</td>\n",
       "      <td>No</td>\n",
       "      <td>5849</td>\n",
       "      <td>0.0</td>\n",
       "      <td>NaN</td>\n",
       "      <td>360.0</td>\n",
       "      <td>1.0</td>\n",
       "      <td>Urban</td>\n",
       "      <td>Y</td>\n",
       "    </tr>\n",
       "    <tr>\n",
       "      <th>1</th>\n",
       "      <td>LP001003</td>\n",
       "      <td>Male</td>\n",
       "      <td>Yes</td>\n",
       "      <td>1</td>\n",
       "      <td>Graduate</td>\n",
       "      <td>No</td>\n",
       "      <td>4583</td>\n",
       "      <td>1508.0</td>\n",
       "      <td>128.0</td>\n",
       "      <td>360.0</td>\n",
       "      <td>1.0</td>\n",
       "      <td>Rural</td>\n",
       "      <td>N</td>\n",
       "    </tr>\n",
       "    <tr>\n",
       "      <th>2</th>\n",
       "      <td>LP001005</td>\n",
       "      <td>Male</td>\n",
       "      <td>Yes</td>\n",
       "      <td>0</td>\n",
       "      <td>Graduate</td>\n",
       "      <td>Yes</td>\n",
       "      <td>3000</td>\n",
       "      <td>0.0</td>\n",
       "      <td>66.0</td>\n",
       "      <td>360.0</td>\n",
       "      <td>1.0</td>\n",
       "      <td>Urban</td>\n",
       "      <td>Y</td>\n",
       "    </tr>\n",
       "    <tr>\n",
       "      <th>3</th>\n",
       "      <td>LP001006</td>\n",
       "      <td>Male</td>\n",
       "      <td>Yes</td>\n",
       "      <td>0</td>\n",
       "      <td>Not Graduate</td>\n",
       "      <td>No</td>\n",
       "      <td>2583</td>\n",
       "      <td>2358.0</td>\n",
       "      <td>120.0</td>\n",
       "      <td>360.0</td>\n",
       "      <td>1.0</td>\n",
       "      <td>Urban</td>\n",
       "      <td>Y</td>\n",
       "    </tr>\n",
       "    <tr>\n",
       "      <th>4</th>\n",
       "      <td>LP001008</td>\n",
       "      <td>Male</td>\n",
       "      <td>No</td>\n",
       "      <td>0</td>\n",
       "      <td>Graduate</td>\n",
       "      <td>No</td>\n",
       "      <td>6000</td>\n",
       "      <td>0.0</td>\n",
       "      <td>141.0</td>\n",
       "      <td>360.0</td>\n",
       "      <td>1.0</td>\n",
       "      <td>Urban</td>\n",
       "      <td>Y</td>\n",
       "    </tr>\n",
       "  </tbody>\n",
       "</table>\n",
       "</div>"
      ],
      "text/plain": [
       "    Loan_ID Gender Married Dependents     Education Self_Employed  \\\n",
       "0  LP001002   Male      No          0      Graduate            No   \n",
       "1  LP001003   Male     Yes          1      Graduate            No   \n",
       "2  LP001005   Male     Yes          0      Graduate           Yes   \n",
       "3  LP001006   Male     Yes          0  Not Graduate            No   \n",
       "4  LP001008   Male      No          0      Graduate            No   \n",
       "\n",
       "   ApplicantIncome  CoapplicantIncome  LoanAmount  Loan_Amount_Term  \\\n",
       "0             5849                0.0         NaN             360.0   \n",
       "1             4583             1508.0       128.0             360.0   \n",
       "2             3000                0.0        66.0             360.0   \n",
       "3             2583             2358.0       120.0             360.0   \n",
       "4             6000                0.0       141.0             360.0   \n",
       "\n",
       "   Credit_History Property_Area Loan_Status  \n",
       "0             1.0         Urban           Y  \n",
       "1             1.0         Rural           N  \n",
       "2             1.0         Urban           Y  \n",
       "3             1.0         Urban           Y  \n",
       "4             1.0         Urban           Y  "
      ]
     },
     "execution_count": 5,
     "metadata": {},
     "output_type": "execute_result"
    }
   ],
   "source": [
    "#Lets display the some few information from our large datasets\n",
    "loan_train.head()"
   ]
  },
  {
   "cell_type": "code",
   "execution_count": 6,
   "id": "619caeec",
   "metadata": {},
   "outputs": [
    {
     "data": {
      "text/html": [
       "<div>\n",
       "<style scoped>\n",
       "    .dataframe tbody tr th:only-of-type {\n",
       "        vertical-align: middle;\n",
       "    }\n",
       "\n",
       "    .dataframe tbody tr th {\n",
       "        vertical-align: top;\n",
       "    }\n",
       "\n",
       "    .dataframe thead th {\n",
       "        text-align: right;\n",
       "    }\n",
       "</style>\n",
       "<table border=\"1\" class=\"dataframe\">\n",
       "  <thead>\n",
       "    <tr style=\"text-align: right;\">\n",
       "      <th></th>\n",
       "      <th>Loan_ID</th>\n",
       "      <th>Gender</th>\n",
       "      <th>Married</th>\n",
       "      <th>Dependents</th>\n",
       "      <th>Education</th>\n",
       "      <th>Self_Employed</th>\n",
       "      <th>ApplicantIncome</th>\n",
       "      <th>CoapplicantIncome</th>\n",
       "      <th>LoanAmount</th>\n",
       "      <th>Loan_Amount_Term</th>\n",
       "      <th>Credit_History</th>\n",
       "      <th>Property_Area</th>\n",
       "    </tr>\n",
       "  </thead>\n",
       "  <tbody>\n",
       "    <tr>\n",
       "      <th>0</th>\n",
       "      <td>LP001015</td>\n",
       "      <td>Male</td>\n",
       "      <td>Yes</td>\n",
       "      <td>0</td>\n",
       "      <td>Graduate</td>\n",
       "      <td>No</td>\n",
       "      <td>5720</td>\n",
       "      <td>0</td>\n",
       "      <td>110.0</td>\n",
       "      <td>360.0</td>\n",
       "      <td>1.0</td>\n",
       "      <td>Urban</td>\n",
       "    </tr>\n",
       "    <tr>\n",
       "      <th>1</th>\n",
       "      <td>LP001022</td>\n",
       "      <td>Male</td>\n",
       "      <td>Yes</td>\n",
       "      <td>1</td>\n",
       "      <td>Graduate</td>\n",
       "      <td>No</td>\n",
       "      <td>3076</td>\n",
       "      <td>1500</td>\n",
       "      <td>126.0</td>\n",
       "      <td>360.0</td>\n",
       "      <td>1.0</td>\n",
       "      <td>Urban</td>\n",
       "    </tr>\n",
       "    <tr>\n",
       "      <th>2</th>\n",
       "      <td>LP001031</td>\n",
       "      <td>Male</td>\n",
       "      <td>Yes</td>\n",
       "      <td>2</td>\n",
       "      <td>Graduate</td>\n",
       "      <td>No</td>\n",
       "      <td>5000</td>\n",
       "      <td>1800</td>\n",
       "      <td>208.0</td>\n",
       "      <td>360.0</td>\n",
       "      <td>1.0</td>\n",
       "      <td>Urban</td>\n",
       "    </tr>\n",
       "    <tr>\n",
       "      <th>3</th>\n",
       "      <td>LP001035</td>\n",
       "      <td>Male</td>\n",
       "      <td>Yes</td>\n",
       "      <td>2</td>\n",
       "      <td>Graduate</td>\n",
       "      <td>No</td>\n",
       "      <td>2340</td>\n",
       "      <td>2546</td>\n",
       "      <td>100.0</td>\n",
       "      <td>360.0</td>\n",
       "      <td>NaN</td>\n",
       "      <td>Urban</td>\n",
       "    </tr>\n",
       "    <tr>\n",
       "      <th>4</th>\n",
       "      <td>LP001051</td>\n",
       "      <td>Male</td>\n",
       "      <td>No</td>\n",
       "      <td>0</td>\n",
       "      <td>Not Graduate</td>\n",
       "      <td>No</td>\n",
       "      <td>3276</td>\n",
       "      <td>0</td>\n",
       "      <td>78.0</td>\n",
       "      <td>360.0</td>\n",
       "      <td>1.0</td>\n",
       "      <td>Urban</td>\n",
       "    </tr>\n",
       "  </tbody>\n",
       "</table>\n",
       "</div>"
      ],
      "text/plain": [
       "    Loan_ID Gender Married Dependents     Education Self_Employed  \\\n",
       "0  LP001015   Male     Yes          0      Graduate            No   \n",
       "1  LP001022   Male     Yes          1      Graduate            No   \n",
       "2  LP001031   Male     Yes          2      Graduate            No   \n",
       "3  LP001035   Male     Yes          2      Graduate            No   \n",
       "4  LP001051   Male      No          0  Not Graduate            No   \n",
       "\n",
       "   ApplicantIncome  CoapplicantIncome  LoanAmount  Loan_Amount_Term  \\\n",
       "0             5720                  0       110.0             360.0   \n",
       "1             3076               1500       126.0             360.0   \n",
       "2             5000               1800       208.0             360.0   \n",
       "3             2340               2546       100.0             360.0   \n",
       "4             3276                  0        78.0             360.0   \n",
       "\n",
       "   Credit_History Property_Area  \n",
       "0             1.0         Urban  \n",
       "1             1.0         Urban  \n",
       "2             1.0         Urban  \n",
       "3             NaN         Urban  \n",
       "4             1.0         Urban  "
      ]
     },
     "execution_count": 6,
     "metadata": {},
     "output_type": "execute_result"
    }
   ],
   "source": [
    "loan_test.head()"
   ]
  },
  {
   "cell_type": "code",
   "execution_count": 7,
   "id": "816fabab",
   "metadata": {},
   "outputs": [
    {
     "name": "stdout",
     "output_type": "stream",
     "text": [
      "The size of train dataset is:  (614, 13)\n",
      "The size of test dataset is:  (367, 12)\n"
     ]
    }
   ],
   "source": [
    "#Check the size of train/test dataset\n",
    "print(\"The size of train dataset is: \", loan_train.shape)\n",
    "print(\"The size of test dataset is: \", loan_test.shape)\n"
   ]
  },
  {
   "cell_type": "markdown",
   "id": "d2b5e65e",
   "metadata": {},
   "source": [
    "We have 12 independent variables and 1 target variable (Loan_Status) in the training dataset.\n",
    "We have similar features in the test dataset as the training dataset except for the Loan_Status. \n",
    "We need to predict the test dataset using the training dataset. "
   ]
  },
  {
   "cell_type": "code",
   "execution_count": 8,
   "id": "f10cc315",
   "metadata": {},
   "outputs": [
    {
     "data": {
      "text/plain": [
       "Loan_ID               object\n",
       "Gender                object\n",
       "Married               object\n",
       "Dependents            object\n",
       "Education             object\n",
       "Self_Employed         object\n",
       "ApplicantIncome        int64\n",
       "CoapplicantIncome    float64\n",
       "LoanAmount           float64\n",
       "Loan_Amount_Term     float64\n",
       "Credit_History       float64\n",
       "Property_Area         object\n",
       "Loan_Status           object\n",
       "dtype: object"
      ]
     },
     "execution_count": 8,
     "metadata": {},
     "output_type": "execute_result"
    }
   ],
   "source": [
    "# check the data types of variable in the dataset. \n",
    "loan_train.dtypes"
   ]
  },
  {
   "cell_type": "markdown",
   "id": "9a2578fd",
   "metadata": {},
   "source": [
    "There are 3 data formats in the dataset including: \n",
    "- object: Object format mentions categorical variables. Categorical variables in this dataset are Loan_ID, Gender, Married, Dependents, Education, Self_Employed, Property_Area, Loan_Status, Credit_History. \n",
    "- int64: int64 format mentions the integer variables. In this dataset, only ApplicantIncome is int64 format\n",
    "- float64: It represents the variable that has some decimal values involved. CoapplicantIncome, LoanAmount, Loan_Amount_Term  belong to this format."
   ]
  },
  {
   "cell_type": "markdown",
   "id": "ab37d610",
   "metadata": {},
   "source": [
    "Besides data format, these variables can be divided into different types: \n",
    "- Categorical nominal features: These features have categories (Gender, Married, Self_Employed, Credit_History (being preprocessed), Loan_Status)\n",
    "- Ordinal features: Variables in categorical features having some order involved (Dependents, Education, Property_Area)\n",
    "- Numerical features: These features have numerical values (ApplicantIncome, Co-applicantIncome, LoanAmount, Loan_Amount_Term)"
   ]
  },
  {
   "cell_type": "markdown",
   "id": "2940514c",
   "metadata": {},
   "source": [
    "# 3. Data Cleaning"
   ]
  },
  {
   "cell_type": "markdown",
   "id": "1f9c173a",
   "metadata": {},
   "source": [
    "**Drop unwanted columns**\n",
    "\n",
    "Loan_ID doesnt bring any values for modeling and prediction, therefore, we will drop it from both train and test dataset. "
   ]
  },
  {
   "cell_type": "code",
   "execution_count": 9,
   "id": "09299919",
   "metadata": {},
   "outputs": [],
   "source": [
    "loan_train.drop(['Loan_ID'],axis=1,inplace=True) # Delete Loan_ID from training dataset \n"
   ]
  },
  {
   "cell_type": "markdown",
   "id": "5e8ca26c",
   "metadata": {},
   "source": [
    "**Identify missing values**"
   ]
  },
  {
   "cell_type": "markdown",
   "id": "7bac0ca0",
   "metadata": {},
   "source": [
    "We are going to be checking if there are NULL values present in our data. We see that there are quite a few null values present."
   ]
  },
  {
   "cell_type": "code",
   "execution_count": 10,
   "id": "fe2b8183",
   "metadata": {},
   "outputs": [
    {
     "data": {
      "text/plain": [
       "Credit_History       50\n",
       "Self_Employed        32\n",
       "LoanAmount           22\n",
       "Dependents           15\n",
       "Loan_Amount_Term     14\n",
       "Gender               13\n",
       "Married               3\n",
       "Education             0\n",
       "ApplicantIncome       0\n",
       "CoapplicantIncome     0\n",
       "Property_Area         0\n",
       "Loan_Status           0\n",
       "dtype: int64"
      ]
     },
     "execution_count": 10,
     "metadata": {},
     "output_type": "execute_result"
    }
   ],
   "source": [
    "loan_train.isna().sum().sort_values(ascending=False)"
   ]
  },
  {
   "cell_type": "markdown",
   "id": "b8099c1e",
   "metadata": {},
   "source": [
    "The Credit History is the feature with the most missing data, 50 out of 614 followed by the Self Employed, and Loan Amount."
   ]
  },
  {
   "cell_type": "code",
   "execution_count": 11,
   "id": "ebc89c4d",
   "metadata": {},
   "outputs": [
    {
     "data": {
      "text/plain": [
       "Credit_History       29\n",
       "Self_Employed        23\n",
       "Gender               11\n",
       "Dependents           10\n",
       "Loan_Amount_Term      6\n",
       "LoanAmount            5\n",
       "Loan_ID               0\n",
       "Married               0\n",
       "Education             0\n",
       "ApplicantIncome       0\n",
       "CoapplicantIncome     0\n",
       "Property_Area         0\n",
       "dtype: int64"
      ]
     },
     "execution_count": 11,
     "metadata": {},
     "output_type": "execute_result"
    }
   ],
   "source": [
    "loan_test.isna().sum().sort_values(ascending=False)"
   ]
  },
  {
   "cell_type": "markdown",
   "id": "409585eb",
   "metadata": {},
   "source": [
    "**Imputing missing values in train and test**"
   ]
  },
  {
   "cell_type": "markdown",
   "id": "31af46d2",
   "metadata": {},
   "source": [
    "As we can see here, there are many columns missing with small amount of null values so we use mean amd mode to replace with NaN values.\n",
    "- For categorical variables, we will replace NaN values with mode. This can apply with Credit_History,Self_Employed, Gender, Dependents, Married. \n",
    "- For numerical variables, we will replace NaN values with mean. This can apply with LoanAmount, Loan_Amount_Term  "
   ]
  },
  {
   "cell_type": "code",
   "execution_count": 12,
   "id": "7afde477",
   "metadata": {},
   "outputs": [],
   "source": [
    "#Fill nan values of categorical variables. \n",
    "loan_train[\"Gender\"].fillna(loan_train[\"Gender\"].mode()[0], inplace=True)\n",
    "loan_test[\"Gender\"].fillna(loan_test[\"Gender\"].mode()[0], inplace=True)\n",
    "loan_train[\"Married\"].fillna(loan_train[\"Married\"].mode()[0], inplace=True)\n",
    "\n",
    "loan_train[\"Dependents\"].fillna(loan_train[\"Dependents\"].mode()[0], inplace=True)\n",
    "loan_test[\"Dependents\"].fillna(loan_test[\"Dependents\"].mode()[0], inplace=True)\n",
    "loan_train[\"Self_Employed\"].fillna(loan_train[\"Self_Employed\"].mode()[0], inplace=True)\n",
    "loan_test[\"Self_Employed\"].fillna(loan_test[\"Self_Employed\"].mode()[0], inplace=True)\n",
    "loan_train[\"Credit_History\"].fillna(loan_train[\"Credit_History\"].mode()[0], inplace=True)\n",
    "loan_test[\"Credit_History\"].fillna(loan_test[\"Credit_History\"].mode()[0], inplace=True)"
   ]
  },
  {
   "cell_type": "code",
   "execution_count": 13,
   "id": "e7262083",
   "metadata": {},
   "outputs": [],
   "source": [
    "#Fill nan values of numeric variables. \n",
    "loan_train[\"LoanAmount\"].fillna(loan_train[\"LoanAmount\"].median(), inplace=True)\n",
    "loan_test[\"LoanAmount\"].fillna(loan_test[\"LoanAmount\"].median(), inplace=True)\n",
    "loan_train[\"Loan_Amount_Term\"].fillna(loan_train[\"Loan_Amount_Term\"].median(), inplace=True)\n",
    "loan_test[\"Loan_Amount_Term\"].fillna(loan_test[\"Loan_Amount_Term\"].median(), inplace=True)"
   ]
  },
  {
   "cell_type": "code",
   "execution_count": 14,
   "id": "cc4ccc90",
   "metadata": {},
   "outputs": [
    {
     "data": {
      "text/plain": [
       "Gender               0\n",
       "Married              0\n",
       "Dependents           0\n",
       "Education            0\n",
       "Self_Employed        0\n",
       "ApplicantIncome      0\n",
       "CoapplicantIncome    0\n",
       "LoanAmount           0\n",
       "Loan_Amount_Term     0\n",
       "Credit_History       0\n",
       "Property_Area        0\n",
       "Loan_Status          0\n",
       "dtype: int64"
      ]
     },
     "execution_count": 14,
     "metadata": {},
     "output_type": "execute_result"
    }
   ],
   "source": [
    "#let's check null values again\n",
    "loan_train.isna().sum()"
   ]
  },
  {
   "cell_type": "code",
   "execution_count": 15,
   "id": "84ab3947",
   "metadata": {},
   "outputs": [
    {
     "data": {
      "text/plain": [
       "Loan_ID              0\n",
       "Gender               0\n",
       "Married              0\n",
       "Dependents           0\n",
       "Education            0\n",
       "Self_Employed        0\n",
       "ApplicantIncome      0\n",
       "CoapplicantIncome    0\n",
       "LoanAmount           0\n",
       "Loan_Amount_Term     0\n",
       "Credit_History       0\n",
       "Property_Area        0\n",
       "dtype: int64"
      ]
     },
     "execution_count": 15,
     "metadata": {},
     "output_type": "execute_result"
    }
   ],
   "source": [
    "loan_test.isna().sum()"
   ]
  },
  {
   "cell_type": "markdown",
   "id": "a91fd003",
   "metadata": {},
   "source": [
    "**General understanding of dataset using describe()**"
   ]
  },
  {
   "cell_type": "code",
   "execution_count": 16,
   "id": "d04e0fd7",
   "metadata": {},
   "outputs": [
    {
     "data": {
      "text/html": [
       "<div>\n",
       "<style scoped>\n",
       "    .dataframe tbody tr th:only-of-type {\n",
       "        vertical-align: middle;\n",
       "    }\n",
       "\n",
       "    .dataframe tbody tr th {\n",
       "        vertical-align: top;\n",
       "    }\n",
       "\n",
       "    .dataframe thead th {\n",
       "        text-align: right;\n",
       "    }\n",
       "</style>\n",
       "<table border=\"1\" class=\"dataframe\">\n",
       "  <thead>\n",
       "    <tr style=\"text-align: right;\">\n",
       "      <th></th>\n",
       "      <th>Gender</th>\n",
       "      <th>Married</th>\n",
       "      <th>Dependents</th>\n",
       "      <th>Education</th>\n",
       "      <th>Self_Employed</th>\n",
       "      <th>ApplicantIncome</th>\n",
       "      <th>CoapplicantIncome</th>\n",
       "      <th>LoanAmount</th>\n",
       "      <th>Loan_Amount_Term</th>\n",
       "      <th>Credit_History</th>\n",
       "      <th>Property_Area</th>\n",
       "      <th>Loan_Status</th>\n",
       "    </tr>\n",
       "  </thead>\n",
       "  <tbody>\n",
       "    <tr>\n",
       "      <th>count</th>\n",
       "      <td>614</td>\n",
       "      <td>614</td>\n",
       "      <td>614</td>\n",
       "      <td>614</td>\n",
       "      <td>614</td>\n",
       "      <td>614.000000</td>\n",
       "      <td>614.000000</td>\n",
       "      <td>614.000000</td>\n",
       "      <td>614.000000</td>\n",
       "      <td>614.000000</td>\n",
       "      <td>614</td>\n",
       "      <td>614</td>\n",
       "    </tr>\n",
       "    <tr>\n",
       "      <th>unique</th>\n",
       "      <td>2</td>\n",
       "      <td>2</td>\n",
       "      <td>4</td>\n",
       "      <td>2</td>\n",
       "      <td>2</td>\n",
       "      <td>NaN</td>\n",
       "      <td>NaN</td>\n",
       "      <td>NaN</td>\n",
       "      <td>NaN</td>\n",
       "      <td>NaN</td>\n",
       "      <td>3</td>\n",
       "      <td>2</td>\n",
       "    </tr>\n",
       "    <tr>\n",
       "      <th>top</th>\n",
       "      <td>Male</td>\n",
       "      <td>Yes</td>\n",
       "      <td>0</td>\n",
       "      <td>Graduate</td>\n",
       "      <td>No</td>\n",
       "      <td>NaN</td>\n",
       "      <td>NaN</td>\n",
       "      <td>NaN</td>\n",
       "      <td>NaN</td>\n",
       "      <td>NaN</td>\n",
       "      <td>Semiurban</td>\n",
       "      <td>Y</td>\n",
       "    </tr>\n",
       "    <tr>\n",
       "      <th>freq</th>\n",
       "      <td>502</td>\n",
       "      <td>401</td>\n",
       "      <td>360</td>\n",
       "      <td>480</td>\n",
       "      <td>532</td>\n",
       "      <td>NaN</td>\n",
       "      <td>NaN</td>\n",
       "      <td>NaN</td>\n",
       "      <td>NaN</td>\n",
       "      <td>NaN</td>\n",
       "      <td>233</td>\n",
       "      <td>422</td>\n",
       "    </tr>\n",
       "    <tr>\n",
       "      <th>mean</th>\n",
       "      <td>NaN</td>\n",
       "      <td>NaN</td>\n",
       "      <td>NaN</td>\n",
       "      <td>NaN</td>\n",
       "      <td>NaN</td>\n",
       "      <td>5403.459283</td>\n",
       "      <td>1621.245798</td>\n",
       "      <td>145.752443</td>\n",
       "      <td>342.410423</td>\n",
       "      <td>0.855049</td>\n",
       "      <td>NaN</td>\n",
       "      <td>NaN</td>\n",
       "    </tr>\n",
       "    <tr>\n",
       "      <th>std</th>\n",
       "      <td>NaN</td>\n",
       "      <td>NaN</td>\n",
       "      <td>NaN</td>\n",
       "      <td>NaN</td>\n",
       "      <td>NaN</td>\n",
       "      <td>6109.041673</td>\n",
       "      <td>2926.248369</td>\n",
       "      <td>84.107233</td>\n",
       "      <td>64.428629</td>\n",
       "      <td>0.352339</td>\n",
       "      <td>NaN</td>\n",
       "      <td>NaN</td>\n",
       "    </tr>\n",
       "    <tr>\n",
       "      <th>min</th>\n",
       "      <td>NaN</td>\n",
       "      <td>NaN</td>\n",
       "      <td>NaN</td>\n",
       "      <td>NaN</td>\n",
       "      <td>NaN</td>\n",
       "      <td>150.000000</td>\n",
       "      <td>0.000000</td>\n",
       "      <td>9.000000</td>\n",
       "      <td>12.000000</td>\n",
       "      <td>0.000000</td>\n",
       "      <td>NaN</td>\n",
       "      <td>NaN</td>\n",
       "    </tr>\n",
       "    <tr>\n",
       "      <th>25%</th>\n",
       "      <td>NaN</td>\n",
       "      <td>NaN</td>\n",
       "      <td>NaN</td>\n",
       "      <td>NaN</td>\n",
       "      <td>NaN</td>\n",
       "      <td>2877.500000</td>\n",
       "      <td>0.000000</td>\n",
       "      <td>100.250000</td>\n",
       "      <td>360.000000</td>\n",
       "      <td>1.000000</td>\n",
       "      <td>NaN</td>\n",
       "      <td>NaN</td>\n",
       "    </tr>\n",
       "    <tr>\n",
       "      <th>50%</th>\n",
       "      <td>NaN</td>\n",
       "      <td>NaN</td>\n",
       "      <td>NaN</td>\n",
       "      <td>NaN</td>\n",
       "      <td>NaN</td>\n",
       "      <td>3812.500000</td>\n",
       "      <td>1188.500000</td>\n",
       "      <td>128.000000</td>\n",
       "      <td>360.000000</td>\n",
       "      <td>1.000000</td>\n",
       "      <td>NaN</td>\n",
       "      <td>NaN</td>\n",
       "    </tr>\n",
       "    <tr>\n",
       "      <th>75%</th>\n",
       "      <td>NaN</td>\n",
       "      <td>NaN</td>\n",
       "      <td>NaN</td>\n",
       "      <td>NaN</td>\n",
       "      <td>NaN</td>\n",
       "      <td>5795.000000</td>\n",
       "      <td>2297.250000</td>\n",
       "      <td>164.750000</td>\n",
       "      <td>360.000000</td>\n",
       "      <td>1.000000</td>\n",
       "      <td>NaN</td>\n",
       "      <td>NaN</td>\n",
       "    </tr>\n",
       "    <tr>\n",
       "      <th>max</th>\n",
       "      <td>NaN</td>\n",
       "      <td>NaN</td>\n",
       "      <td>NaN</td>\n",
       "      <td>NaN</td>\n",
       "      <td>NaN</td>\n",
       "      <td>81000.000000</td>\n",
       "      <td>41667.000000</td>\n",
       "      <td>700.000000</td>\n",
       "      <td>480.000000</td>\n",
       "      <td>1.000000</td>\n",
       "      <td>NaN</td>\n",
       "      <td>NaN</td>\n",
       "    </tr>\n",
       "  </tbody>\n",
       "</table>\n",
       "</div>"
      ],
      "text/plain": [
       "       Gender Married Dependents Education Self_Employed  ApplicantIncome  \\\n",
       "count     614     614        614       614           614       614.000000   \n",
       "unique      2       2          4         2             2              NaN   \n",
       "top      Male     Yes          0  Graduate            No              NaN   \n",
       "freq      502     401        360       480           532              NaN   \n",
       "mean      NaN     NaN        NaN       NaN           NaN      5403.459283   \n",
       "std       NaN     NaN        NaN       NaN           NaN      6109.041673   \n",
       "min       NaN     NaN        NaN       NaN           NaN       150.000000   \n",
       "25%       NaN     NaN        NaN       NaN           NaN      2877.500000   \n",
       "50%       NaN     NaN        NaN       NaN           NaN      3812.500000   \n",
       "75%       NaN     NaN        NaN       NaN           NaN      5795.000000   \n",
       "max       NaN     NaN        NaN       NaN           NaN     81000.000000   \n",
       "\n",
       "        CoapplicantIncome  LoanAmount  Loan_Amount_Term  Credit_History  \\\n",
       "count          614.000000  614.000000        614.000000      614.000000   \n",
       "unique                NaN         NaN               NaN             NaN   \n",
       "top                   NaN         NaN               NaN             NaN   \n",
       "freq                  NaN         NaN               NaN             NaN   \n",
       "mean          1621.245798  145.752443        342.410423        0.855049   \n",
       "std           2926.248369   84.107233         64.428629        0.352339   \n",
       "min              0.000000    9.000000         12.000000        0.000000   \n",
       "25%              0.000000  100.250000        360.000000        1.000000   \n",
       "50%           1188.500000  128.000000        360.000000        1.000000   \n",
       "75%           2297.250000  164.750000        360.000000        1.000000   \n",
       "max          41667.000000  700.000000        480.000000        1.000000   \n",
       "\n",
       "       Property_Area Loan_Status  \n",
       "count            614         614  \n",
       "unique             3           2  \n",
       "top        Semiurban           Y  \n",
       "freq             233         422  \n",
       "mean             NaN         NaN  \n",
       "std              NaN         NaN  \n",
       "min              NaN         NaN  \n",
       "25%              NaN         NaN  \n",
       "50%              NaN         NaN  \n",
       "75%              NaN         NaN  \n",
       "max              NaN         NaN  "
      ]
     },
     "execution_count": 16,
     "metadata": {},
     "output_type": "execute_result"
    }
   ],
   "source": [
    "loan_train.describe(include=\"all\")"
   ]
  },
  {
   "cell_type": "code",
   "execution_count": 17,
   "id": "e399d313",
   "metadata": {},
   "outputs": [
    {
     "data": {
      "text/html": [
       "<div>\n",
       "<style scoped>\n",
       "    .dataframe tbody tr th:only-of-type {\n",
       "        vertical-align: middle;\n",
       "    }\n",
       "\n",
       "    .dataframe tbody tr th {\n",
       "        vertical-align: top;\n",
       "    }\n",
       "\n",
       "    .dataframe thead th {\n",
       "        text-align: right;\n",
       "    }\n",
       "</style>\n",
       "<table border=\"1\" class=\"dataframe\">\n",
       "  <thead>\n",
       "    <tr style=\"text-align: right;\">\n",
       "      <th></th>\n",
       "      <th>Loan_ID</th>\n",
       "      <th>Gender</th>\n",
       "      <th>Married</th>\n",
       "      <th>Dependents</th>\n",
       "      <th>Education</th>\n",
       "      <th>Self_Employed</th>\n",
       "      <th>ApplicantIncome</th>\n",
       "      <th>CoapplicantIncome</th>\n",
       "      <th>LoanAmount</th>\n",
       "      <th>Loan_Amount_Term</th>\n",
       "      <th>Credit_History</th>\n",
       "      <th>Property_Area</th>\n",
       "    </tr>\n",
       "  </thead>\n",
       "  <tbody>\n",
       "    <tr>\n",
       "      <th>count</th>\n",
       "      <td>367</td>\n",
       "      <td>367</td>\n",
       "      <td>367</td>\n",
       "      <td>367</td>\n",
       "      <td>367</td>\n",
       "      <td>367</td>\n",
       "      <td>367.000000</td>\n",
       "      <td>367.000000</td>\n",
       "      <td>367.000000</td>\n",
       "      <td>367.000000</td>\n",
       "      <td>367.000000</td>\n",
       "      <td>367</td>\n",
       "    </tr>\n",
       "    <tr>\n",
       "      <th>unique</th>\n",
       "      <td>367</td>\n",
       "      <td>2</td>\n",
       "      <td>2</td>\n",
       "      <td>4</td>\n",
       "      <td>2</td>\n",
       "      <td>2</td>\n",
       "      <td>NaN</td>\n",
       "      <td>NaN</td>\n",
       "      <td>NaN</td>\n",
       "      <td>NaN</td>\n",
       "      <td>NaN</td>\n",
       "      <td>3</td>\n",
       "    </tr>\n",
       "    <tr>\n",
       "      <th>top</th>\n",
       "      <td>LP002329</td>\n",
       "      <td>Male</td>\n",
       "      <td>Yes</td>\n",
       "      <td>0</td>\n",
       "      <td>Graduate</td>\n",
       "      <td>No</td>\n",
       "      <td>NaN</td>\n",
       "      <td>NaN</td>\n",
       "      <td>NaN</td>\n",
       "      <td>NaN</td>\n",
       "      <td>NaN</td>\n",
       "      <td>Urban</td>\n",
       "    </tr>\n",
       "    <tr>\n",
       "      <th>freq</th>\n",
       "      <td>1</td>\n",
       "      <td>297</td>\n",
       "      <td>233</td>\n",
       "      <td>210</td>\n",
       "      <td>283</td>\n",
       "      <td>330</td>\n",
       "      <td>NaN</td>\n",
       "      <td>NaN</td>\n",
       "      <td>NaN</td>\n",
       "      <td>NaN</td>\n",
       "      <td>NaN</td>\n",
       "      <td>140</td>\n",
       "    </tr>\n",
       "    <tr>\n",
       "      <th>mean</th>\n",
       "      <td>NaN</td>\n",
       "      <td>NaN</td>\n",
       "      <td>NaN</td>\n",
       "      <td>NaN</td>\n",
       "      <td>NaN</td>\n",
       "      <td>NaN</td>\n",
       "      <td>4805.599455</td>\n",
       "      <td>1569.577657</td>\n",
       "      <td>135.980926</td>\n",
       "      <td>342.822888</td>\n",
       "      <td>0.839237</td>\n",
       "      <td>NaN</td>\n",
       "    </tr>\n",
       "    <tr>\n",
       "      <th>std</th>\n",
       "      <td>NaN</td>\n",
       "      <td>NaN</td>\n",
       "      <td>NaN</td>\n",
       "      <td>NaN</td>\n",
       "      <td>NaN</td>\n",
       "      <td>NaN</td>\n",
       "      <td>4910.685399</td>\n",
       "      <td>2334.232099</td>\n",
       "      <td>60.959739</td>\n",
       "      <td>64.658402</td>\n",
       "      <td>0.367814</td>\n",
       "      <td>NaN</td>\n",
       "    </tr>\n",
       "    <tr>\n",
       "      <th>min</th>\n",
       "      <td>NaN</td>\n",
       "      <td>NaN</td>\n",
       "      <td>NaN</td>\n",
       "      <td>NaN</td>\n",
       "      <td>NaN</td>\n",
       "      <td>NaN</td>\n",
       "      <td>0.000000</td>\n",
       "      <td>0.000000</td>\n",
       "      <td>28.000000</td>\n",
       "      <td>6.000000</td>\n",
       "      <td>0.000000</td>\n",
       "      <td>NaN</td>\n",
       "    </tr>\n",
       "    <tr>\n",
       "      <th>25%</th>\n",
       "      <td>NaN</td>\n",
       "      <td>NaN</td>\n",
       "      <td>NaN</td>\n",
       "      <td>NaN</td>\n",
       "      <td>NaN</td>\n",
       "      <td>NaN</td>\n",
       "      <td>2864.000000</td>\n",
       "      <td>0.000000</td>\n",
       "      <td>101.000000</td>\n",
       "      <td>360.000000</td>\n",
       "      <td>1.000000</td>\n",
       "      <td>NaN</td>\n",
       "    </tr>\n",
       "    <tr>\n",
       "      <th>50%</th>\n",
       "      <td>NaN</td>\n",
       "      <td>NaN</td>\n",
       "      <td>NaN</td>\n",
       "      <td>NaN</td>\n",
       "      <td>NaN</td>\n",
       "      <td>NaN</td>\n",
       "      <td>3786.000000</td>\n",
       "      <td>1025.000000</td>\n",
       "      <td>125.000000</td>\n",
       "      <td>360.000000</td>\n",
       "      <td>1.000000</td>\n",
       "      <td>NaN</td>\n",
       "    </tr>\n",
       "    <tr>\n",
       "      <th>75%</th>\n",
       "      <td>NaN</td>\n",
       "      <td>NaN</td>\n",
       "      <td>NaN</td>\n",
       "      <td>NaN</td>\n",
       "      <td>NaN</td>\n",
       "      <td>NaN</td>\n",
       "      <td>5060.000000</td>\n",
       "      <td>2430.500000</td>\n",
       "      <td>157.500000</td>\n",
       "      <td>360.000000</td>\n",
       "      <td>1.000000</td>\n",
       "      <td>NaN</td>\n",
       "    </tr>\n",
       "    <tr>\n",
       "      <th>max</th>\n",
       "      <td>NaN</td>\n",
       "      <td>NaN</td>\n",
       "      <td>NaN</td>\n",
       "      <td>NaN</td>\n",
       "      <td>NaN</td>\n",
       "      <td>NaN</td>\n",
       "      <td>72529.000000</td>\n",
       "      <td>24000.000000</td>\n",
       "      <td>550.000000</td>\n",
       "      <td>480.000000</td>\n",
       "      <td>1.000000</td>\n",
       "      <td>NaN</td>\n",
       "    </tr>\n",
       "  </tbody>\n",
       "</table>\n",
       "</div>"
      ],
      "text/plain": [
       "         Loan_ID Gender Married Dependents Education Self_Employed  \\\n",
       "count        367    367     367        367       367           367   \n",
       "unique       367      2       2          4         2             2   \n",
       "top     LP002329   Male     Yes          0  Graduate            No   \n",
       "freq           1    297     233        210       283           330   \n",
       "mean         NaN    NaN     NaN        NaN       NaN           NaN   \n",
       "std          NaN    NaN     NaN        NaN       NaN           NaN   \n",
       "min          NaN    NaN     NaN        NaN       NaN           NaN   \n",
       "25%          NaN    NaN     NaN        NaN       NaN           NaN   \n",
       "50%          NaN    NaN     NaN        NaN       NaN           NaN   \n",
       "75%          NaN    NaN     NaN        NaN       NaN           NaN   \n",
       "max          NaN    NaN     NaN        NaN       NaN           NaN   \n",
       "\n",
       "        ApplicantIncome  CoapplicantIncome  LoanAmount  Loan_Amount_Term  \\\n",
       "count        367.000000         367.000000  367.000000        367.000000   \n",
       "unique              NaN                NaN         NaN               NaN   \n",
       "top                 NaN                NaN         NaN               NaN   \n",
       "freq                NaN                NaN         NaN               NaN   \n",
       "mean        4805.599455        1569.577657  135.980926        342.822888   \n",
       "std         4910.685399        2334.232099   60.959739         64.658402   \n",
       "min            0.000000           0.000000   28.000000          6.000000   \n",
       "25%         2864.000000           0.000000  101.000000        360.000000   \n",
       "50%         3786.000000        1025.000000  125.000000        360.000000   \n",
       "75%         5060.000000        2430.500000  157.500000        360.000000   \n",
       "max        72529.000000       24000.000000  550.000000        480.000000   \n",
       "\n",
       "        Credit_History Property_Area  \n",
       "count       367.000000           367  \n",
       "unique             NaN             3  \n",
       "top                NaN         Urban  \n",
       "freq               NaN           140  \n",
       "mean          0.839237           NaN  \n",
       "std           0.367814           NaN  \n",
       "min           0.000000           NaN  \n",
       "25%           1.000000           NaN  \n",
       "50%           1.000000           NaN  \n",
       "75%           1.000000           NaN  \n",
       "max           1.000000           NaN  "
      ]
     },
     "execution_count": 17,
     "metadata": {},
     "output_type": "execute_result"
    }
   ],
   "source": [
    "loan_test.describe(include=\"all\")"
   ]
  },
  {
   "cell_type": "markdown",
   "id": "120bde53",
   "metadata": {},
   "source": [
    "We can perform some **feature engineering** to combine or derive new features. For this dataset, I will create a new feature called Total Income combining the ApplicantIncome and CoapplicantIncome because some people might have a low income but strong CoappliantIncome so a good idea is to combine them. "
   ]
  },
  {
   "cell_type": "code",
   "execution_count": 18,
   "id": "8448225c",
   "metadata": {},
   "outputs": [
    {
     "data": {
      "text/plain": [
       "0    5849.0\n",
       "1    6091.0\n",
       "2    3000.0\n",
       "3    4941.0\n",
       "4    6000.0\n",
       "Name: Total Income, dtype: float64"
      ]
     },
     "execution_count": 18,
     "metadata": {},
     "output_type": "execute_result"
    }
   ],
   "source": [
    "loan_train[\"Total Income\"]= loan_train[\"ApplicantIncome\"] + loan_train[\"CoapplicantIncome\"]\n",
    "loan_test[\"Total Income\"]= loan_test[\"ApplicantIncome\"] + loan_test[\"CoapplicantIncome\"]\n",
    "loan_train[\"Total Income\"].head()"
   ]
  },
  {
   "cell_type": "markdown",
   "id": "bc5c175e",
   "metadata": {},
   "source": [
    "And now I will add a new column from Loan_Status into nemeric format in training set to make convenience for visualization in the next part. "
   ]
  },
  {
   "cell_type": "code",
   "execution_count": 19,
   "id": "dd8e267c",
   "metadata": {},
   "outputs": [
    {
     "data": {
      "text/html": [
       "<div>\n",
       "<style scoped>\n",
       "    .dataframe tbody tr th:only-of-type {\n",
       "        vertical-align: middle;\n",
       "    }\n",
       "\n",
       "    .dataframe tbody tr th {\n",
       "        vertical-align: top;\n",
       "    }\n",
       "\n",
       "    .dataframe thead th {\n",
       "        text-align: right;\n",
       "    }\n",
       "</style>\n",
       "<table border=\"1\" class=\"dataframe\">\n",
       "  <thead>\n",
       "    <tr style=\"text-align: right;\">\n",
       "      <th></th>\n",
       "      <th>Gender</th>\n",
       "      <th>Married</th>\n",
       "      <th>Dependents</th>\n",
       "      <th>Education</th>\n",
       "      <th>Self_Employed</th>\n",
       "      <th>ApplicantIncome</th>\n",
       "      <th>CoapplicantIncome</th>\n",
       "      <th>LoanAmount</th>\n",
       "      <th>Loan_Amount_Term</th>\n",
       "      <th>Credit_History</th>\n",
       "      <th>Property_Area</th>\n",
       "      <th>Loan_Status</th>\n",
       "      <th>Total Income</th>\n",
       "      <th>Loan Status</th>\n",
       "    </tr>\n",
       "  </thead>\n",
       "  <tbody>\n",
       "    <tr>\n",
       "      <th>0</th>\n",
       "      <td>Male</td>\n",
       "      <td>No</td>\n",
       "      <td>0</td>\n",
       "      <td>Graduate</td>\n",
       "      <td>No</td>\n",
       "      <td>5849</td>\n",
       "      <td>0.0</td>\n",
       "      <td>128.0</td>\n",
       "      <td>360.0</td>\n",
       "      <td>1.0</td>\n",
       "      <td>Urban</td>\n",
       "      <td>Y</td>\n",
       "      <td>5849.0</td>\n",
       "      <td>1</td>\n",
       "    </tr>\n",
       "    <tr>\n",
       "      <th>1</th>\n",
       "      <td>Male</td>\n",
       "      <td>Yes</td>\n",
       "      <td>1</td>\n",
       "      <td>Graduate</td>\n",
       "      <td>No</td>\n",
       "      <td>4583</td>\n",
       "      <td>1508.0</td>\n",
       "      <td>128.0</td>\n",
       "      <td>360.0</td>\n",
       "      <td>1.0</td>\n",
       "      <td>Rural</td>\n",
       "      <td>N</td>\n",
       "      <td>6091.0</td>\n",
       "      <td>0</td>\n",
       "    </tr>\n",
       "    <tr>\n",
       "      <th>2</th>\n",
       "      <td>Male</td>\n",
       "      <td>Yes</td>\n",
       "      <td>0</td>\n",
       "      <td>Graduate</td>\n",
       "      <td>Yes</td>\n",
       "      <td>3000</td>\n",
       "      <td>0.0</td>\n",
       "      <td>66.0</td>\n",
       "      <td>360.0</td>\n",
       "      <td>1.0</td>\n",
       "      <td>Urban</td>\n",
       "      <td>Y</td>\n",
       "      <td>3000.0</td>\n",
       "      <td>1</td>\n",
       "    </tr>\n",
       "    <tr>\n",
       "      <th>3</th>\n",
       "      <td>Male</td>\n",
       "      <td>Yes</td>\n",
       "      <td>0</td>\n",
       "      <td>Not Graduate</td>\n",
       "      <td>No</td>\n",
       "      <td>2583</td>\n",
       "      <td>2358.0</td>\n",
       "      <td>120.0</td>\n",
       "      <td>360.0</td>\n",
       "      <td>1.0</td>\n",
       "      <td>Urban</td>\n",
       "      <td>Y</td>\n",
       "      <td>4941.0</td>\n",
       "      <td>1</td>\n",
       "    </tr>\n",
       "    <tr>\n",
       "      <th>4</th>\n",
       "      <td>Male</td>\n",
       "      <td>No</td>\n",
       "      <td>0</td>\n",
       "      <td>Graduate</td>\n",
       "      <td>No</td>\n",
       "      <td>6000</td>\n",
       "      <td>0.0</td>\n",
       "      <td>141.0</td>\n",
       "      <td>360.0</td>\n",
       "      <td>1.0</td>\n",
       "      <td>Urban</td>\n",
       "      <td>Y</td>\n",
       "      <td>6000.0</td>\n",
       "      <td>1</td>\n",
       "    </tr>\n",
       "  </tbody>\n",
       "</table>\n",
       "</div>"
      ],
      "text/plain": [
       "  Gender Married Dependents     Education Self_Employed  ApplicantIncome  \\\n",
       "0   Male      No          0      Graduate            No             5849   \n",
       "1   Male     Yes          1      Graduate            No             4583   \n",
       "2   Male     Yes          0      Graduate           Yes             3000   \n",
       "3   Male     Yes          0  Not Graduate            No             2583   \n",
       "4   Male      No          0      Graduate            No             6000   \n",
       "\n",
       "   CoapplicantIncome  LoanAmount  Loan_Amount_Term  Credit_History  \\\n",
       "0                0.0       128.0             360.0             1.0   \n",
       "1             1508.0       128.0             360.0             1.0   \n",
       "2                0.0        66.0             360.0             1.0   \n",
       "3             2358.0       120.0             360.0             1.0   \n",
       "4                0.0       141.0             360.0             1.0   \n",
       "\n",
       "  Property_Area Loan_Status  Total Income  Loan Status  \n",
       "0         Urban           Y        5849.0            1  \n",
       "1         Rural           N        6091.0            0  \n",
       "2         Urban           Y        3000.0            1  \n",
       "3         Urban           Y        4941.0            1  \n",
       "4         Urban           Y        6000.0            1  "
      ]
     },
     "execution_count": 19,
     "metadata": {},
     "output_type": "execute_result"
    }
   ],
   "source": [
    "loan_train[\"Loan Status\"] = loan_train[\"Loan_Status\"].replace({\"Y\": 1, \"N\": 0})\n",
    "loan_train.head()"
   ]
  },
  {
   "cell_type": "markdown",
   "id": "b1e2e128",
   "metadata": {},
   "source": [
    "# 4. Explanatory data analysis (EDA)"
   ]
  },
  {
   "cell_type": "markdown",
   "id": "26c8623c",
   "metadata": {},
   "source": [
    "## Univariate Analysis"
   ]
  },
  {
   "cell_type": "markdown",
   "id": "e22abd17",
   "metadata": {},
   "source": [
    " Now let’s visualize the data"
   ]
  },
  {
   "cell_type": "code",
   "execution_count": 20,
   "id": "3249e86e",
   "metadata": {},
   "outputs": [
    {
     "data": {
      "text/plain": [
       "Y    0.687296\n",
       "N    0.312704\n",
       "Name: Loan_Status, dtype: float64"
      ]
     },
     "execution_count": 20,
     "metadata": {},
     "output_type": "execute_result"
    }
   ],
   "source": [
    "loan_train[\"Loan_Status\"].value_counts(normalize=True)"
   ]
  },
  {
   "cell_type": "code",
   "execution_count": 21,
   "id": "7c16f5c0",
   "metadata": {},
   "outputs": [
    {
     "data": {
      "image/png": "[encoded data removed]",
      "text/plain": [
       "<Figure size 432x288 with 1 Axes>"
      ]
     },
     "metadata": {
      "needs_background": "light"
     },
     "output_type": "display_data"
    }
   ],
   "source": [
    "sns.countplot(x=\"Loan_Status\", data=loan_train, palette=\"viridis\")\n",
    "plt.show()"
   ]
  },
  {
   "cell_type": "markdown",
   "id": "e3d1c71b",
   "metadata": {},
   "source": [
    "Taking a look at the countplot, we get an understanding that most of the target variable in training dataset is loan approval. More than 68% are loan approval and nearly 32% of them are loan disapproval.  Therefore, we are dealing with an imbalanced dataset, and care must be taken when using various machine learning models for predictions."
   ]
  },
  {
   "cell_type": "markdown",
   "id": "e961d013",
   "metadata": {},
   "source": [
    "**Univariate Analysis for categorical variables**"
   ]
  },
  {
   "cell_type": "code",
   "execution_count": 22,
   "id": "0f241c4a",
   "metadata": {},
   "outputs": [
    {
     "data": {
      "image/png": "[encoded data removed]",
      "text/plain": [
       "<Figure size 648x432 with 1 Axes>"
      ]
     },
     "metadata": {
      "needs_background": "light"
     },
     "output_type": "display_data"
    },
    {
     "data": {
      "image/png": "[encoded data removed]",
      "text/plain": [
       "<Figure size 648x432 with 1 Axes>"
      ]
     },
     "metadata": {
      "needs_background": "light"
     },
     "output_type": "display_data"
    },
    {
     "data": {
      "image/png": "[encoded data removed]",
      "text/plain": [
       "<Figure size 648x432 with 1 Axes>"
      ]
     },
     "metadata": {
      "needs_background": "light"
     },
     "output_type": "display_data"
    },
    {
     "data": {
      "image/png": "[encoded data removed]",
      "text/plain": [
       "<Figure size 648x432 with 1 Axes>"
      ]
     },
     "metadata": {
      "needs_background": "light"
     },
     "output_type": "display_data"
    },
    {
     "data": {
      "image/png": "[encoded data removed]",
      "text/plain": [
       "<Figure size 648x432 with 1 Axes>"
      ]
     },
     "metadata": {
      "needs_background": "light"
     },
     "output_type": "display_data"
    },
    {
     "data": {
      "image/png": "[encoded data removed]",
      "text/plain": [
       "<Figure size 648x432 with 1 Axes>"
      ]
     },
     "metadata": {
      "needs_background": "light"
     },
     "output_type": "display_data"
    },
    {
     "data": {
      "image/png": "[encoded data removed]",
      "text/plain": [
       "<Figure size 648x432 with 1 Axes>"
      ]
     },
     "metadata": {
      "needs_background": "light"
     },
     "output_type": "display_data"
    }
   ],
   "source": [
    "categorical_features = loan_train[[\"Gender\", \"Married\", \"Self_Employed\", \"Credit_History\", \"Dependents\", \"Education\", \"Property_Area\"]]\n",
    "#plot a bar chart for each categorical feature\n",
    "for col in categorical_features:\n",
    "    fig=plt.figure(figsize=(9,6))\n",
    "    ax = fig.gca()\n",
    "    feature = loan_train[col]\n",
    "    counts = loan_train[col].value_counts().sort_index()\n",
    "    counts.plot.bar(ax = ax, color=\"green\")\n",
    "    ax.set_title(col + ' counts')\n",
    "    ax.set_xlabel(col) \n",
    "    ax.set_ylabel(\"Frequency\")\n",
    "plt.show()\n"
   ]
  },
  {
   "cell_type": "markdown",
   "id": "ade498dc",
   "metadata": {},
   "source": [
    "- 80% of applicants are men;\n",
    "- Around 80% are self-employed;\n",
    "- 65% are married;\n",
    "- 84% repaid his debts.\n",
    "- A large part of the applicants have no dependents;\n",
    "- Most of the applicants are graduated;\n",
    "- Most of the applicants are from the semi-urban area"
   ]
  },
  {
   "cell_type": "markdown",
   "id": "140f1b0b",
   "metadata": {},
   "source": [
    "**Univariate Analysis for numeric variables**"
   ]
  },
  {
   "cell_type": "code",
   "execution_count": 23,
   "id": "eeba4eb6",
   "metadata": {},
   "outputs": [
    {
     "data": {
      "image/png": "[encoded data removed]",
      "text/plain": [
       "<Figure size 648x432 with 1 Axes>"
      ]
     },
     "metadata": {
      "needs_background": "light"
     },
     "output_type": "display_data"
    },
    {
     "data": {
      "image/png": "[encoded data removed]",
      "text/plain": [
       "<Figure size 648x432 with 1 Axes>"
      ]
     },
     "metadata": {
      "needs_background": "light"
     },
     "output_type": "display_data"
    },
    {
     "data": {
      "image/png": "[encoded data removed]",
      "text/plain": [
       "<Figure size 648x432 with 1 Axes>"
      ]
     },
     "metadata": {
      "needs_background": "light"
     },
     "output_type": "display_data"
    },
    {
     "data": {
      "image/png": "[encoded data removed]",
      "text/plain": [
       "<Figure size 648x432 with 1 Axes>"
      ]
     },
     "metadata": {
      "needs_background": "light"
     },
     "output_type": "display_data"
    }
   ],
   "source": [
    "numeric_features = loan_train[[\"ApplicantIncome\", \"Total Income\", \"LoanAmount\", \"Loan_Amount_Term\"]]\n",
    "\n",
    "# Plot a histogram for each numeric feature\n",
    "for col in numeric_features:\n",
    "    fig = plt.figure(figsize=(9, 6))\n",
    "    ax = fig.gca()\n",
    "    feature = loan_train[col]\n",
    "    feature.hist(bins=100, ax = ax, color=\"purple\")\n",
    "    ax.set_title(col)\n",
    "plt.show()\n"
   ]
  },
  {
   "cell_type": "markdown",
   "id": "1fc7c62d",
   "metadata": {},
   "source": [
    "- Income distribution is highly right skewed, so most the applicant have an income below 20,000 USD.\n",
    "- Total income distribution is also very right skewed, which means that co-applicant income doesnt affects income much more. \n",
    "- The Loan Amount is by far more normally distributed, with a mean of roughly 150,000 USD. \n",
    "- The Loan Amount Term is the number of months the loan will be paid. Loans were paid in 360 months more often, near 500 loans, followed by 180 months with roughly 50 loans."
   ]
  },
  {
   "cell_type": "markdown",
   "id": "ae7a9eeb",
   "metadata": {},
   "source": [
    "## Bivariate Analysis"
   ]
  },
  {
   "cell_type": "markdown",
   "id": "55284d83",
   "metadata": {},
   "source": [
    "Now that we know something about the distribution of the data in our columns, we can start to look for relationships between the features and the loan status label we want to be able to predict."
   ]
  },
  {
   "cell_type": "code",
   "execution_count": 24,
   "id": "ca766802",
   "metadata": {},
   "outputs": [
    {
     "name": "stdout",
     "output_type": "stream",
     "text": [
      "AxesSubplot(0.125,0.125;0.775x0.755)\n"
     ]
    },
    {
     "data": {
      "image/png": "[encoded data removed]",
      "text/plain": [
       "<Figure size 432x288 with 1 Axes>"
      ]
     },
     "metadata": {
      "needs_background": "light"
     },
     "output_type": "display_data"
    },
    {
     "name": "stdout",
     "output_type": "stream",
     "text": [
      "AxesSubplot(0.125,0.125;0.775x0.755)\n"
     ]
    },
    {
     "data": {
      "image/png": "[encoded data removed]",
      "text/plain": [
       "<Figure size 432x288 with 1 Axes>"
      ]
     },
     "metadata": {
      "needs_background": "light"
     },
     "output_type": "display_data"
    },
    {
     "name": "stdout",
     "output_type": "stream",
     "text": [
      "AxesSubplot(0.125,0.125;0.775x0.755)\n"
     ]
    },
    {
     "data": {
      "image/png": "[encoded data removed]",
      "text/plain": [
       "<Figure size 432x288 with 1 Axes>"
      ]
     },
     "metadata": {
      "needs_background": "light"
     },
     "output_type": "display_data"
    },
    {
     "name": "stdout",
     "output_type": "stream",
     "text": [
      "AxesSubplot(0.125,0.125;0.775x0.755)\n"
     ]
    },
    {
     "data": {
      "image/png": "[encoded data removed]",
      "text/plain": [
       "<Figure size 432x288 with 1 Axes>"
      ]
     },
     "metadata": {
      "needs_background": "light"
     },
     "output_type": "display_data"
    },
    {
     "name": "stdout",
     "output_type": "stream",
     "text": [
      "AxesSubplot(0.125,0.125;0.775x0.755)\n"
     ]
    },
    {
     "data": {
      "image/png": "[encoded data removed]",
      "text/plain": [
       "<Figure size 432x288 with 1 Axes>"
      ]
     },
     "metadata": {
      "needs_background": "light"
     },
     "output_type": "display_data"
    },
    {
     "name": "stdout",
     "output_type": "stream",
     "text": [
      "AxesSubplot(0.125,0.125;0.775x0.755)\n"
     ]
    },
    {
     "data": {
      "image/png": "[encoded data removed]",
      "text/plain": [
       "<Figure size 432x288 with 1 Axes>"
      ]
     },
     "metadata": {
      "needs_background": "light"
     },
     "output_type": "display_data"
    },
    {
     "name": "stdout",
     "output_type": "stream",
     "text": [
      "AxesSubplot(0.125,0.125;0.775x0.755)\n"
     ]
    },
    {
     "data": {
      "image/png": "[encoded data removed]",
      "text/plain": [
       "<Figure size 432x288 with 1 Axes>"
      ]
     },
     "metadata": {
      "needs_background": "light"
     },
     "output_type": "display_data"
    }
   ],
   "source": [
    "\n",
    "for feature in categorical_features:\n",
    "    print(sns.countplot(x=feature, data=loan_train, hue='Loan_Status'))\n",
    "    plt.show()"
   ]
  },
  {
   "cell_type": "markdown",
   "id": "44b9f939",
   "metadata": {},
   "source": [
    "- Men asking for loans have a higher income than women but the approval rate for men and women is the same\n",
    "- Married people ask for loan higher than non-married people and that percentage of married people who have got their loan approved is higher when compared to non- married people.\n",
    "- The applicant who has less number of dependents have a high probability for loan approval.\n",
    "- The one who is graduate has a better chance of loan approval.\n",
    "- The number of applicants that have good credit history is higher compared to applicants that have bad credit history. Better credit history will have the higher chance of loan approval.\n",
    "- Possessing a semiurban area gives you an extra chance of being approved.\n",
    "- No Self-employed people ask for loan much more than self-employed but there is hardly any correlation between Loan_Status and Self_Employed applicants. "
   ]
  },
  {
   "cell_type": "markdown",
   "id": "dfa5df86",
   "metadata": {},
   "source": [
    "In this part, I will answer some assumptions:\n",
    "- The one whose salary is more can have a greater chance of loan approval.\n",
    "- The one who is graduate has a better chance of loan approval.\n",
    "- Married people would have a upper hand than unmarried people for loan approval .\n",
    "- The applicant who has less number of dependents have a high probability for loan approval.\n",
    "- The lesser the loan amount the higher the chance for getting loan.\n",
    "- Better credit history will have the higher chance of loan approval. "
   ]
  },
  {
   "cell_type": "code",
   "execution_count": 25,
   "id": "6896d495",
   "metadata": {},
   "outputs": [
    {
     "data": {
      "image/png": "[encoded data removed]",
      "text/plain": [
       "<Figure size 432x288 with 1 Axes>"
      ]
     },
     "metadata": {
      "needs_background": "light"
     },
     "output_type": "display_data"
    }
   ],
   "source": [
    "sns.boxplot(x=\"Loan_Status\", y=\"ApplicantIncome\", data=loan_train, palette=\"mako\");"
   ]
  },
  {
   "cell_type": "code",
   "execution_count": 26,
   "id": "3c794026",
   "metadata": {},
   "outputs": [
    {
     "data": {
      "image/png": "[encoded data removed]",
      "text/plain": [
       "<Figure size 432x288 with 1 Axes>"
      ]
     },
     "metadata": {
      "needs_background": "light"
     },
     "output_type": "display_data"
    },
    {
     "data": {
      "image/png": "[encoded data removed]",
      "text/plain": [
       "<Figure size 432x288 with 1 Axes>"
      ]
     },
     "metadata": {
      "needs_background": "light"
     },
     "output_type": "display_data"
    },
    {
     "data": {
      "image/png": "[encoded data removed]",
      "text/plain": [
       "<Figure size 432x288 with 1 Axes>"
      ]
     },
     "metadata": {
      "needs_background": "light"
     },
     "output_type": "display_data"
    },
    {
     "data": {
      "image/png": "[encoded data removed]",
      "text/plain": [
       "<Figure size 432x288 with 1 Axes>"
      ]
     },
     "metadata": {
      "needs_background": "light"
     },
     "output_type": "display_data"
    }
   ],
   "source": [
    "df_approved = loan_train[loan_train['Loan_Status'] == 'Y']\n",
    "df_rejected = loan_train[loan_train['Loan_Status'] == 'N']\n",
    "\n",
    "\n",
    "for feature in numeric_features:\n",
    "    sns.distplot(df_approved[feature][df_approved[feature].isna() == False], label = 'Loan_Status == Y')\n",
    "    sns.distplot(df_rejected[feature][df_rejected[feature].isna() == False], label = 'Loan_Status == N')\n",
    "    plt.legend()\n",
    "    plt.show()"
   ]
  },
  {
   "cell_type": "markdown",
   "id": "63d8bea3",
   "metadata": {},
   "source": [
    "- The applicant's income seems roughly the same for those approved or rejected loans. But the total income for loan approval is bigger than its loan disapproval, we can infer that bonus income is important to the approval rate.\n",
    "- The loan amount for those rejected loans seems to be bigger. But there are a lot of outliers in both cases, maybe due to other variables like Applicant Income, Co-applicant Income, Education, etc.\n",
    "- ..."
   ]
  },
  {
   "cell_type": "markdown",
   "id": "88d54335",
   "metadata": {},
   "source": [
    "**Correlationships**\n",
    "\n",
    "Correlation is a measure of association between numerical variables."
   ]
  },
  {
   "cell_type": "code",
   "execution_count": 27,
   "id": "21fde780",
   "metadata": {},
   "outputs": [
    {
     "data": {
      "image/png": "[encoded data removed]",
      "text/plain": [
       "<Figure size 720x504 with 2 Axes>"
      ]
     },
     "metadata": {
      "needs_background": "light"
     },
     "output_type": "display_data"
    }
   ],
   "source": [
    "plt.figure(figsize=(10,7))\n",
    "sns.heatmap(loan_train.corr(), annot=True, cmap='inferno');"
   ]
  },
  {
   "cell_type": "markdown",
   "id": "454aa027",
   "metadata": {},
   "source": [
    "- Loan Amount is strongly correlated with applicant income and poorly correlated with co-applicant income.\n",
    "- The applicant and co-applicant incomes are poorly negatively correlated, meaning they’re varying on the opposite, higher applicant income lower co-applicant income."
   ]
  },
  {
   "cell_type": "markdown",
   "id": "f6e62853",
   "metadata": {},
   "source": [
    "# 5. Data Preprocessing"
   ]
  },
  {
   "cell_type": "markdown",
   "id": "d4696adf",
   "metadata": {},
   "source": [
    " ## Feature Encoding"
   ]
  },
  {
   "cell_type": "markdown",
   "id": "02bcf4b8",
   "metadata": {},
   "source": [
    "We’re gonna use sklearn for our models , before doing that we need to turn all the categorical variables into numbers. \n",
    "- Ordinal categorical features: Label encoding\n",
    "- Norminal categorical features: One hot encoding"
   ]
  },
  {
   "cell_type": "code",
   "execution_count": 28,
   "id": "d74b05db",
   "metadata": {},
   "outputs": [
    {
     "data": {
      "text/plain": [
       "Gender                object\n",
       "Married               object\n",
       "Dependents             int32\n",
       "Education             object\n",
       "Self_Employed         object\n",
       "ApplicantIncome        int64\n",
       "CoapplicantIncome    float64\n",
       "LoanAmount           float64\n",
       "Loan_Amount_Term     float64\n",
       "Credit_History       float64\n",
       "Property_Area          int32\n",
       "Loan_Status           object\n",
       "Total Income         float64\n",
       "Loan Status            int64\n",
       "dtype: object"
      ]
     },
     "execution_count": 28,
     "metadata": {},
     "output_type": "execute_result"
    }
   ],
   "source": [
    "#Label encoding for train dataset\n",
    "from sklearn.preprocessing import LabelEncoder\n",
    "ordinal_category= ['Dependents','Property_Area'] \n",
    "encoder= LabelEncoder()\n",
    "for i in ordinal_category:  \n",
    "    loan_train[i] = encoder.fit_transform(loan_train[i]) \n",
    "loan_train.dtypes"
   ]
  },
  {
   "cell_type": "code",
   "execution_count": 29,
   "id": "f82309b3",
   "metadata": {},
   "outputs": [
    {
     "data": {
      "text/plain": [
       "Loan_ID               object\n",
       "Gender                object\n",
       "Married               object\n",
       "Dependents             int32\n",
       "Education             object\n",
       "Self_Employed         object\n",
       "ApplicantIncome        int64\n",
       "CoapplicantIncome      int64\n",
       "LoanAmount           float64\n",
       "Loan_Amount_Term     float64\n",
       "Credit_History       float64\n",
       "Property_Area          int32\n",
       "Total Income           int64\n",
       "dtype: object"
      ]
     },
     "execution_count": 29,
     "metadata": {},
     "output_type": "execute_result"
    }
   ],
   "source": [
    "#Label encoding for train dataset\n",
    "from sklearn.preprocessing import LabelEncoder\n",
    "ordinal_category= ['Dependents','Property_Area'] \n",
    "encoder= LabelEncoder()\n",
    "for i in ordinal_category:  \n",
    "    loan_test[i] = encoder.fit_transform(loan_test[i]) \n",
    "loan_test.dtypes"
   ]
  },
  {
   "cell_type": "code",
   "execution_count": 30,
   "id": "27d57264",
   "metadata": {},
   "outputs": [
    {
     "data": {
      "text/plain": [
       "Gender                 uint8\n",
       "Married                uint8\n",
       "Dependents             int32\n",
       "Education              uint8\n",
       "Self_Employed          uint8\n",
       "ApplicantIncome        int64\n",
       "CoapplicantIncome    float64\n",
       "LoanAmount           float64\n",
       "Loan_Amount_Term     float64\n",
       "Credit_History       float64\n",
       "Property_Area          int32\n",
       "Loan_Status           object\n",
       "Total Income         float64\n",
       "Loan Status            int64\n",
       "dtype: object"
      ]
     },
     "execution_count": 30,
     "metadata": {},
     "output_type": "execute_result"
    }
   ],
   "source": [
    "#One hot encoding using get_dummies() for training dataset\n",
    "nominal_category = ['Gender', 'Married', 'Education', 'Self_Employed']\n",
    "for i in nominal_category:  \n",
    "    loan_train[i] = pd.get_dummies(loan_train[i]) \n",
    "loan_train.dtypes"
   ]
  },
  {
   "cell_type": "code",
   "execution_count": 31,
   "id": "b6e78899",
   "metadata": {},
   "outputs": [
    {
     "data": {
      "text/plain": [
       "Loan_ID               object\n",
       "Gender                 uint8\n",
       "Married                uint8\n",
       "Dependents             int32\n",
       "Education              uint8\n",
       "Self_Employed          uint8\n",
       "ApplicantIncome        int64\n",
       "CoapplicantIncome      int64\n",
       "LoanAmount           float64\n",
       "Loan_Amount_Term     float64\n",
       "Credit_History       float64\n",
       "Property_Area          int32\n",
       "Total Income           int64\n",
       "dtype: object"
      ]
     },
     "execution_count": 31,
     "metadata": {},
     "output_type": "execute_result"
    }
   ],
   "source": [
    "#One hot encoding using get_dummies() for testing dataset\n",
    "nominal_category = ['Gender', 'Married', 'Education', 'Self_Employed']\n",
    "for i in nominal_category:  \n",
    "    loan_test[i] = pd.get_dummies(loan_test[i]) \n",
    "loan_test.dtypes"
   ]
  },
  {
   "cell_type": "code",
   "execution_count": 32,
   "id": "b4b2de4b",
   "metadata": {},
   "outputs": [
    {
     "data": {
      "text/html": [
       "<div>\n",
       "<style scoped>\n",
       "    .dataframe tbody tr th:only-of-type {\n",
       "        vertical-align: middle;\n",
       "    }\n",
       "\n",
       "    .dataframe tbody tr th {\n",
       "        vertical-align: top;\n",
       "    }\n",
       "\n",
       "    .dataframe thead th {\n",
       "        text-align: right;\n",
       "    }\n",
       "</style>\n",
       "<table border=\"1\" class=\"dataframe\">\n",
       "  <thead>\n",
       "    <tr style=\"text-align: right;\">\n",
       "      <th></th>\n",
       "      <th>Gender</th>\n",
       "      <th>Married</th>\n",
       "      <th>Dependents</th>\n",
       "      <th>Education</th>\n",
       "      <th>Self_Employed</th>\n",
       "      <th>ApplicantIncome</th>\n",
       "      <th>CoapplicantIncome</th>\n",
       "      <th>LoanAmount</th>\n",
       "      <th>Loan_Amount_Term</th>\n",
       "      <th>Credit_History</th>\n",
       "      <th>Property_Area</th>\n",
       "      <th>Loan_Status</th>\n",
       "      <th>Total Income</th>\n",
       "      <th>Loan Status</th>\n",
       "    </tr>\n",
       "  </thead>\n",
       "  <tbody>\n",
       "    <tr>\n",
       "      <th>0</th>\n",
       "      <td>0</td>\n",
       "      <td>1</td>\n",
       "      <td>0</td>\n",
       "      <td>1</td>\n",
       "      <td>1</td>\n",
       "      <td>5849</td>\n",
       "      <td>0.0</td>\n",
       "      <td>128.0</td>\n",
       "      <td>360.0</td>\n",
       "      <td>1.0</td>\n",
       "      <td>2</td>\n",
       "      <td>Y</td>\n",
       "      <td>5849.0</td>\n",
       "      <td>1</td>\n",
       "    </tr>\n",
       "    <tr>\n",
       "      <th>1</th>\n",
       "      <td>0</td>\n",
       "      <td>0</td>\n",
       "      <td>1</td>\n",
       "      <td>1</td>\n",
       "      <td>1</td>\n",
       "      <td>4583</td>\n",
       "      <td>1508.0</td>\n",
       "      <td>128.0</td>\n",
       "      <td>360.0</td>\n",
       "      <td>1.0</td>\n",
       "      <td>0</td>\n",
       "      <td>N</td>\n",
       "      <td>6091.0</td>\n",
       "      <td>0</td>\n",
       "    </tr>\n",
       "    <tr>\n",
       "      <th>2</th>\n",
       "      <td>0</td>\n",
       "      <td>0</td>\n",
       "      <td>0</td>\n",
       "      <td>1</td>\n",
       "      <td>0</td>\n",
       "      <td>3000</td>\n",
       "      <td>0.0</td>\n",
       "      <td>66.0</td>\n",
       "      <td>360.0</td>\n",
       "      <td>1.0</td>\n",
       "      <td>2</td>\n",
       "      <td>Y</td>\n",
       "      <td>3000.0</td>\n",
       "      <td>1</td>\n",
       "    </tr>\n",
       "    <tr>\n",
       "      <th>3</th>\n",
       "      <td>0</td>\n",
       "      <td>0</td>\n",
       "      <td>0</td>\n",
       "      <td>0</td>\n",
       "      <td>1</td>\n",
       "      <td>2583</td>\n",
       "      <td>2358.0</td>\n",
       "      <td>120.0</td>\n",
       "      <td>360.0</td>\n",
       "      <td>1.0</td>\n",
       "      <td>2</td>\n",
       "      <td>Y</td>\n",
       "      <td>4941.0</td>\n",
       "      <td>1</td>\n",
       "    </tr>\n",
       "    <tr>\n",
       "      <th>4</th>\n",
       "      <td>0</td>\n",
       "      <td>1</td>\n",
       "      <td>0</td>\n",
       "      <td>1</td>\n",
       "      <td>1</td>\n",
       "      <td>6000</td>\n",
       "      <td>0.0</td>\n",
       "      <td>141.0</td>\n",
       "      <td>360.0</td>\n",
       "      <td>1.0</td>\n",
       "      <td>2</td>\n",
       "      <td>Y</td>\n",
       "      <td>6000.0</td>\n",
       "      <td>1</td>\n",
       "    </tr>\n",
       "  </tbody>\n",
       "</table>\n",
       "</div>"
      ],
      "text/plain": [
       "   Gender  Married  Dependents  Education  Self_Employed  ApplicantIncome  \\\n",
       "0       0        1           0          1              1             5849   \n",
       "1       0        0           1          1              1             4583   \n",
       "2       0        0           0          1              0             3000   \n",
       "3       0        0           0          0              1             2583   \n",
       "4       0        1           0          1              1             6000   \n",
       "\n",
       "   CoapplicantIncome  LoanAmount  Loan_Amount_Term  Credit_History  \\\n",
       "0                0.0       128.0             360.0             1.0   \n",
       "1             1508.0       128.0             360.0             1.0   \n",
       "2                0.0        66.0             360.0             1.0   \n",
       "3             2358.0       120.0             360.0             1.0   \n",
       "4                0.0       141.0             360.0             1.0   \n",
       "\n",
       "   Property_Area Loan_Status  Total Income  Loan Status  \n",
       "0              2           Y        5849.0            1  \n",
       "1              0           N        6091.0            0  \n",
       "2              2           Y        3000.0            1  \n",
       "3              2           Y        4941.0            1  \n",
       "4              2           Y        6000.0            1  "
      ]
     },
     "execution_count": 32,
     "metadata": {},
     "output_type": "execute_result"
    }
   ],
   "source": [
    "loan_train.head()"
   ]
  },
  {
   "cell_type": "markdown",
   "id": "46b743f7",
   "metadata": {},
   "source": [
    "## Feature Engineering"
   ]
  },
  {
   "cell_type": "markdown",
   "id": "52463ec2",
   "metadata": {},
   "source": [
    "### Deal with outliers"
   ]
  },
  {
   "cell_type": "markdown",
   "id": "7bafe635",
   "metadata": {},
   "source": [
    "Next we have to handle the outliers , one solution is just to remove and we can use log transformation. Let's make a copy of the orginal to see which one is better.  \n"
   ]
  },
  {
   "cell_type": "code",
   "execution_count": 33,
   "id": "60db18cb",
   "metadata": {},
   "outputs": [],
   "source": [
    "loan_train_ML=loan_train.copy()\n",
    "loan_test_ML=loan_test.copy()"
   ]
  },
  {
   "cell_type": "code",
   "execution_count": 34,
   "id": "d3c6da50",
   "metadata": {},
   "outputs": [],
   "source": [
    "#remove outliers from loan train set\n",
    "Q1 = loan_train_ML.quantile(0.25)\n",
    "Q3 = loan_train_ML.quantile(0.75)\n",
    "IQR = Q3 - Q1\n",
    "\n",
    "loan_train_ML = loan_train_ML[~((loan_train_ML < (Q1 - 1.5 * IQR)) |(loan_train_ML > (Q3 + 1.5 * IQR))).any(axis=1)]"
   ]
  },
  {
   "cell_type": "code",
   "execution_count": 35,
   "id": "d60ab6a8",
   "metadata": {},
   "outputs": [],
   "source": [
    "#remove outliers from loan test set\n",
    "Q1 = loan_test_ML.quantile(0.25)\n",
    "Q3 = loan_test_ML.quantile(0.75)\n",
    "IQR = Q3 - Q1\n",
    "loan_test_ML = loan_test_ML[~((loan_test_ML < (Q1 - 1.5 * IQR)) |(loan_test_ML > (Q3 + 1.5 * IQR))).any(axis=1)]"
   ]
  },
  {
   "cell_type": "code",
   "execution_count": 36,
   "id": "50d77cf6",
   "metadata": {},
   "outputs": [
    {
     "data": {
      "text/plain": [
       "(207, 14)"
      ]
     },
     "execution_count": 36,
     "metadata": {},
     "output_type": "execute_result"
    }
   ],
   "source": [
    "loan_train_ML.shape"
   ]
  },
  {
   "cell_type": "code",
   "execution_count": 37,
   "id": "adbecdc7",
   "metadata": {},
   "outputs": [
    {
     "data": {
      "text/plain": [
       "(125, 13)"
      ]
     },
     "execution_count": 37,
     "metadata": {},
     "output_type": "execute_result"
    }
   ],
   "source": [
    "loan_test_ML.shape"
   ]
  },
  {
   "cell_type": "markdown",
   "id": "bca2ee5d",
   "metadata": {},
   "source": [
    "We can see that 2/3 data was removed from the dataset after removing outliers, which is not good. Now we try log transfomation. It can be easily done via Numpy, just by calling the log() function on the desired column. We only need to log transform with features being seriosly skew right in EDA. "
   ]
  },
  {
   "cell_type": "code",
   "execution_count": 38,
   "id": "8346da9e",
   "metadata": {},
   "outputs": [],
   "source": [
    "#log transform with training set\n",
    "loan_train['Loan_Amount_log']=np.log(loan_train['LoanAmount'])\n",
    "loan_train['Total_Income_log']=np.log(loan_train['Total Income'])"
   ]
  },
  {
   "cell_type": "code",
   "execution_count": 39,
   "id": "6768bc3c",
   "metadata": {},
   "outputs": [],
   "source": [
    "#log transform with test set\n",
    "loan_test['Loan_Amount_log']=np.log(loan_train['LoanAmount'])\n",
    "loan_test['Total_Income_log']=np.log(loan_train['Total Income'])"
   ]
  },
  {
   "cell_type": "markdown",
   "id": "e0df2626",
   "metadata": {},
   "source": [
    "Let's check with histogram plot to see whether it is right skew or not. "
   ]
  },
  {
   "cell_type": "code",
   "execution_count": 40,
   "id": "ea5702d7",
   "metadata": {},
   "outputs": [
    {
     "data": {
      "image/png": "[encoded data removed]",
      "text/plain": [
       "<Figure size 432x288 with 1 Axes>"
      ]
     },
     "metadata": {
      "needs_background": "light"
     },
     "output_type": "display_data"
    }
   ],
   "source": [
    "loan_train[\"Total_Income_log\"].hist(bins=100, color=\"purple\")\n",
    "plt.show()"
   ]
  },
  {
   "cell_type": "code",
   "execution_count": 41,
   "id": "b9fa390f",
   "metadata": {},
   "outputs": [
    {
     "data": {
      "image/png": "[encoded data removed]",
      "text/plain": [
       "<Figure size 432x288 with 1 Axes>"
      ]
     },
     "metadata": {
      "needs_background": "light"
     },
     "output_type": "display_data"
    }
   ],
   "source": [
    "loan_train[\"Loan_Amount_log\"].hist(bins=100, color=\"purple\")\n",
    "plt.show()"
   ]
  },
  {
   "cell_type": "markdown",
   "id": "565f4d12",
   "metadata": {},
   "source": [
    "Yes, seem it works out, more normal distribution. \n"
   ]
  },
  {
   "cell_type": "markdown",
   "id": "191e7483",
   "metadata": {},
   "source": [
    "### Deal with Data Imbalance"
   ]
  },
  {
   "cell_type": "markdown",
   "id": "faa619bf",
   "metadata": {},
   "source": [
    "In EDA, it can be seen that the number between approved and rejected loan is imbalanced. In this section, oversampling technique will be used to avoid overfitting. Here we will use imblearn’s SMOTE or Synthetic Minority Oversampling Technique. SMOTE uses a nearest neighbors algorithm to generate new and synthetic data we can use for training our model. And always split into test and train sets BEFORE trying oversampling techniques!"
   ]
  },
  {
   "cell_type": "markdown",
   "id": "248d624f",
   "metadata": {},
   "source": [
    "Now we will train the model on the training dataset and make predictions for the test dataset. But can we validate these predictions? One way of doing this is we can divide our train dataset into two parts: train and validation. We will use the train_test_split function from sklearn to divide our train dataset. So, first, let us import train_test_split."
   ]
  },
  {
   "cell_type": "markdown",
   "id": "4d25c060",
   "metadata": {},
   "source": [
    "Let's separate the features from the labels - we'll call the features **X** and the label **y**:"
   ]
  },
  {
   "cell_type": "code",
   "execution_count": 42,
   "id": "46f3b20f",
   "metadata": {},
   "outputs": [
    {
     "data": {
      "text/plain": [
       "(614, 16)"
      ]
     },
     "execution_count": 42,
     "metadata": {},
     "output_type": "execute_result"
    }
   ],
   "source": [
    "loan_train.shape"
   ]
  },
  {
   "cell_type": "code",
   "execution_count": 43,
   "id": "c98e1a46",
   "metadata": {},
   "outputs": [
    {
     "data": {
      "text/plain": [
       "(367, 15)"
      ]
     },
     "execution_count": 43,
     "metadata": {},
     "output_type": "execute_result"
    }
   ],
   "source": [
    "loan_test.shape"
   ]
  },
  {
   "cell_type": "code",
   "execution_count": null,
   "id": "4b70dada",
   "metadata": {},
   "outputs": [],
   "source": []
  },
  {
   "cell_type": "code",
   "execution_count": 44,
   "id": "fcfcce24",
   "metadata": {},
   "outputs": [],
   "source": [
    "# Separate features and labels\n",
    "features = ['Gender','Married','Dependents','Education','Self_Employed','Total_Income_log','Loan_Amount_log','Loan_Amount_Term', 'Credit_History', 'Property_Area']\n",
    "label = 'Loan Status'\n",
    "X, y = loan_train[features].values, loan_train[label].values"
   ]
  },
  {
   "cell_type": "code",
   "execution_count": 45,
   "id": "0d16ac86",
   "metadata": {},
   "outputs": [
    {
     "name": "stdout",
     "output_type": "stream",
     "text": [
      "Training cases: 429\n",
      "Validation cases: 185\n"
     ]
    }
   ],
   "source": [
    "from sklearn.model_selection import train_test_split\n",
    "\n",
    "# Split data 70%-30% into training set and test set\n",
    "X_train, X_test, y_train, y_test = train_test_split(X, y, test_size=0.30, random_state=0)\n",
    "\n",
    "print ('Training cases: %d\\nValidation cases: %d' % (X_train.shape[0], X_test.shape[0]))\n"
   ]
  },
  {
   "cell_type": "code",
   "execution_count": 46,
   "id": "803547c5",
   "metadata": {},
   "outputs": [],
   "source": [
    "X, y = SMOTE().fit_resample(X, y)"
   ]
  },
  {
   "cell_type": "code",
   "execution_count": 47,
   "id": "77899c8e",
   "metadata": {},
   "outputs": [
    {
     "name": "stdout",
     "output_type": "stream",
     "text": [
      "Resample dataset shape Counter({1: 422, 0: 422})\n"
     ]
    }
   ],
   "source": [
    "#check the number of target variable after oversampling using SMOTE\n",
    "from collections import Counter\n",
    "print('Resample dataset shape', Counter(y))"
   ]
  },
  {
   "cell_type": "markdown",
   "id": "44bcb79c",
   "metadata": {},
   "source": [
    "It can be seen that the distrubtion of Loan status are now balanced."
   ]
  },
  {
   "cell_type": "markdown",
   "id": "d6f399d9",
   "metadata": {},
   "source": [
    "### Feature Scaling"
   ]
  },
  {
   "cell_type": "markdown",
   "id": "36d94846",
   "metadata": {},
   "source": [
    "Feature scaling improves significantly the performance of some Machine learning algorithms and the most commonly used scaling techniques are:\n",
    "\n",
    "- Normalization: values are shifted so that they endup between a range as [-1, 1] or [0, 1] etc.\n",
    "- Standardization:  values are centred around mean with a unit standard deviation i.e. µ = 0 and square of σ = 1\n",
    "\n",
    "Because in EDA, we realize that distribution of our data is not normal, therefore, we will use Normalization to scale data. "
   ]
  },
  {
   "cell_type": "code",
   "execution_count": 48,
   "id": "e87908b4",
   "metadata": {},
   "outputs": [],
   "source": [
    "X = MinMaxScaler().fit_transform(X)"
   ]
  },
  {
   "cell_type": "markdown",
   "id": "29f205e9",
   "metadata": {},
   "source": [
    "Ok, so we're done with data preprocessing. "
   ]
  },
  {
   "cell_type": "markdown",
   "id": "372c5c25",
   "metadata": {},
   "source": [
    "# 6. Building models & Evaluation"
   ]
  },
  {
   "cell_type": "markdown",
   "id": "6a9249f3",
   "metadata": {},
   "source": [
    "## Logistic Regression"
   ]
  },
  {
   "cell_type": "markdown",
   "id": "e00d9d11",
   "metadata": {},
   "source": [
    "There are various algorithms we can use to train the model. Firstly, we'll use Logistic Regression, which (despite its name) is a well-established algorithm for classification. In addition to the training features and labels, we'll need to set a regularization parameter. This is used to counteract any bias in the sample, and help the model generalize well by avoiding overfitting the model to the training data."
   ]
  },
  {
   "cell_type": "code",
   "execution_count": 49,
   "id": "2d633d11",
   "metadata": {},
   "outputs": [
    {
     "name": "stdout",
     "output_type": "stream",
     "text": [
      "LogisticRegression(C=100.0, solver='liblinear')\n"
     ]
    }
   ],
   "source": [
    "# Set regularization rate\n",
    "reg = 0.01\n",
    "\n",
    "# train a logistic regression model on the training set\n",
    "model = LogisticRegression(C=1/reg, solver=\"liblinear\").fit(X_train, y_train)\n",
    "print (model)"
   ]
  },
  {
   "cell_type": "markdown",
   "id": "e3aa8dba",
   "metadata": {},
   "source": [
    "Now we've trained the model using the training data, we can use the validation data we held back to evaluate how well it predicts."
   ]
  },
  {
   "cell_type": "code",
   "execution_count": 50,
   "id": "391f10d7",
   "metadata": {},
   "outputs": [
    {
     "name": "stdout",
     "output_type": "stream",
     "text": [
      "Predicted labels:  [1 1 1 1 1]\n",
      "Actual labels:     [1 0 1 0 1]\n"
     ]
    }
   ],
   "source": [
    "y_pred = model.predict(X_test)\n",
    "print('Predicted labels: ', y_pred[:5])\n",
    "print('Actual labels:    ' ,y_test[:5])"
   ]
  },
  {
   "cell_type": "markdown",
   "id": "6b433570",
   "metadata": {},
   "source": [
    "Let's check the accuracy of the predictions - in simple terms, what proportion of the labels did the model predict correctly?"
   ]
  },
  {
   "cell_type": "code",
   "execution_count": 51,
   "id": "4d004c91",
   "metadata": {},
   "outputs": [
    {
     "name": "stdout",
     "output_type": "stream",
     "text": [
      "Accuracy:  0.827027027027027\n"
     ]
    }
   ],
   "source": [
    "from sklearn.metrics import accuracy_score\n",
    "print('Accuracy: ', accuracy_score(y_test, y_pred))"
   ]
  },
  {
   "cell_type": "markdown",
   "id": "b05e09cf",
   "metadata": {},
   "source": [
    "Accuracy seems like a sensible metric to evaluate, but you need to be careful about drawing too many conclusions from the accuracy of a classifier. Let's check with confusion matrix and classification report. "
   ]
  },
  {
   "cell_type": "code",
   "execution_count": 52,
   "id": "556984c7",
   "metadata": {},
   "outputs": [
    {
     "data": {
      "text/plain": [
       "Text(91.68, 0.5, 'Predicted')"
      ]
     },
     "execution_count": 52,
     "metadata": {},
     "output_type": "execute_result"
    },
    {
     "data": {
      "image/png": "[encoded data removed]",
      "text/plain": [
       "<Figure size 432x288 with 1 Axes>"
      ]
     },
     "metadata": {
      "needs_background": "light"
     },
     "output_type": "display_data"
    }
   ],
   "source": [
    "#create confusion matrix\n",
    "from sklearn.metrics import confusion_matrix\n",
    "cm = confusion_matrix(y_test, y_pred) \n",
    "sns.heatmap(cm, square=True, annot=True, cbar=False,  cmap=\"YlGnBu\" ,fmt='g')\n",
    "plt.xlabel('Actual')\n",
    "plt.ylabel('Predicted')"
   ]
  },
  {
   "cell_type": "code",
   "execution_count": 53,
   "id": "08b6edaf",
   "metadata": {},
   "outputs": [
    {
     "name": "stdout",
     "output_type": "stream",
     "text": [
      "              precision    recall  f1-score   support\n",
      "\n",
      "           0       0.91      0.41      0.57        51\n",
      "           1       0.81      0.99      0.89       134\n",
      "\n",
      "    accuracy                           0.83       185\n",
      "   macro avg       0.86      0.70      0.73       185\n",
      "weighted avg       0.84      0.83      0.80       185\n",
      "\n"
     ]
    }
   ],
   "source": [
    "print(classification_report(y_test, y_pred))"
   ]
  },
  {
   "cell_type": "code",
   "execution_count": 54,
   "id": "dd23e1c0",
   "metadata": {},
   "outputs": [
    {
     "name": "stdout",
     "output_type": "stream",
     "text": [
      "Overall Precision: 0.8148148148148148\n",
      "Overall Recall: 0.9850746268656716\n"
     ]
    }
   ],
   "source": [
    "# retrieve the precision_score and recall_score metrics\n",
    "from sklearn.metrics import precision_score, recall_score\n",
    "\n",
    "print(\"Overall Precision:\",precision_score(y_test, y_pred))\n",
    "print(\"Overall Recall:\",recall_score(y_test, y_pred))"
   ]
  },
  {
   "cell_type": "markdown",
   "id": "711b3e84",
   "metadata": {},
   "source": [
    " Statistical machine learning algorithms, like logistic regression, are based on probability; so what actually gets predicted by a binary classifier is the probability that the label is true (P(y)) and the probability that the label is false (1 - P(y)). A threshold value of 0.5 is used to decide whether the predicted label is a 1 (P(y) > 0.5) or a 0 (P(y) <= 0.5). We use the predict_proba method to see the probability pairs for each case:"
   ]
  },
  {
   "cell_type": "code",
   "execution_count": 55,
   "id": "7ef60584",
   "metadata": {},
   "outputs": [
    {
     "name": "stdout",
     "output_type": "stream",
     "text": [
      "[[0.22200616 0.77799384]\n",
      " [0.27511352 0.72488648]\n",
      " [0.25045914 0.74954086]\n",
      " [0.15698436 0.84301564]\n",
      " [0.13261742 0.86738258]\n",
      " [0.96809169 0.03190831]\n",
      " [0.16664666 0.83335334]\n",
      " [0.37997163 0.62002837]\n",
      " [0.94881599 0.05118401]\n",
      " [0.19867896 0.80132104]]\n"
     ]
    }
   ],
   "source": [
    "y_scores = model.predict_proba(X_test)\n",
    "print(y_scores[:10])"
   ]
  },
  {
   "cell_type": "markdown",
   "id": "70970bea",
   "metadata": {},
   "source": [
    "A common way to evaluate a classifier is to examine the true positive rate (which is another name for recall) and the false positive rate for a range of possible thresholds. These rates are then plotted against all possible thresholds to form a chart known as a received operator characteristic (ROC) chart, like this:"
   ]
  },
  {
   "cell_type": "code",
   "execution_count": 56,
   "id": "eb2a7fc2",
   "metadata": {},
   "outputs": [
    {
     "data": {
      "image/png": "[encoded data removed]",
      "text/plain": [
       "<Figure size 432x432 with 1 Axes>"
      ]
     },
     "metadata": {
      "needs_background": "light"
     },
     "output_type": "display_data"
    }
   ],
   "source": [
    "from sklearn.metrics import roc_curve\n",
    "# calculate ROC curve\n",
    "fpr, tpr, thresholds = roc_curve(y_test, y_scores[:,1])\n",
    "\n",
    "# plot ROC curve\n",
    "fig = plt.figure(figsize=(6, 6))\n",
    "# Plot the diagonal 50% line\n",
    "plt.plot([0, 1], [0, 1], 'k--')\n",
    "# Plot the FPR and TPR achieved by our model\n",
    "plt.plot(fpr, tpr)\n",
    "plt.xlabel('False Positive Rate')\n",
    "plt.ylabel('True Positive Rate')\n",
    "plt.title('ROC Curve')\n",
    "plt.show()"
   ]
  },
  {
   "cell_type": "markdown",
   "id": "bca66c2f",
   "metadata": {},
   "source": [
    "The area under the curve (AUC) is a value between 0 and 1 that quantifies the overall performance of the model. The closer to 1 this value is, the better the model."
   ]
  },
  {
   "cell_type": "code",
   "execution_count": 57,
   "id": "5dad3027",
   "metadata": {},
   "outputs": [
    {
     "name": "stdout",
     "output_type": "stream",
     "text": [
      "AUC: 0.7291483757682178\n"
     ]
    }
   ],
   "source": [
    "from sklearn.metrics import roc_auc_score\n",
    "\n",
    "auc = roc_auc_score(y_test,y_scores[:,1])\n",
    "print('AUC: ' + str(auc))"
   ]
  },
  {
   "cell_type": "markdown",
   "id": "3931bb19",
   "metadata": {},
   "source": [
    "Now let's try a different algorithm. Previously we used a logistic regression algorithm, which is a linear algorithm. There are many kinds of classification algorithm we could try, including:\n",
    "\n",
    "- Support Vector Machine algorithms: Algorithms that define a hyperplane that separates classes.\n",
    "- Tree-based algorithms: Algorithms that build a decision tree to reach a prediction\n",
    "- Ensemble algorithms: Algorithms that combine the outputs of multiple base algorithms to improve generalizability."
   ]
  },
  {
   "cell_type": "markdown",
   "id": "2a5e5f43",
   "metadata": {},
   "source": [
    "## Random Forest"
   ]
  },
  {
   "cell_type": "code",
   "execution_count": 58,
   "id": "1024cd46",
   "metadata": {},
   "outputs": [
    {
     "name": "stdout",
     "output_type": "stream",
     "text": [
      "RandomForestClassifier(n_estimators=1000)\n"
     ]
    }
   ],
   "source": [
    "from sklearn.ensemble import RandomForestClassifier\n",
    "\n",
    "RF = RandomForestClassifier(n_estimators = 1000)\n",
    "\n",
    "# fit the pipeline to train a random forest model on the training set\n",
    "model_RF = RF.fit(X_train, (y_train))\n",
    "print (model_RF)"
   ]
  },
  {
   "cell_type": "code",
   "execution_count": 59,
   "id": "ce108ca6",
   "metadata": {},
   "outputs": [
    {
     "name": "stdout",
     "output_type": "stream",
     "text": [
      "Confusion Matrix:\n",
      " [[ 23  28]\n",
      " [ 10 124]] \n",
      "\n",
      "Accuracy: 0.7945945945945946\n",
      "Overall Precision: 0.8157894736842105\n",
      "Overall Recall: 0.9253731343283582\n",
      "\n",
      "AUC: 0.7584869768803043\n"
     ]
    },
    {
     "data": {
      "image/png": "[encoded data removed]",
      "text/plain": [
       "<Figure size 432x432 with 1 Axes>"
      ]
     },
     "metadata": {
      "needs_background": "light"
     },
     "output_type": "display_data"
    }
   ],
   "source": [
    "y_pred_RF = model_RF.predict(X_test)\n",
    "y_scores_RF = model_RF.predict_proba(X_test)\n",
    "cm = confusion_matrix(y_test,y_pred_RF)\n",
    "print ('Confusion Matrix:\\n',cm, '\\n')\n",
    "print('Accuracy:', accuracy_score(y_test, y_pred_RF))\n",
    "print(\"Overall Precision:\",precision_score(y_test, y_pred_RF))\n",
    "print(\"Overall Recall:\",recall_score(y_test, y_pred_RF))\n",
    "auc = roc_auc_score(y_test,y_scores_RF[:,1])\n",
    "print('\\nAUC: ' + str(auc))\n",
    "\n",
    "# calculate ROC curve\n",
    "fpr, tpr, thresholds = roc_curve(y_test, y_scores_RF[:,1])\n",
    "\n",
    "# plot ROC curve\n",
    "fig = plt.figure(figsize=(6, 6))\n",
    "# Plot the diagonal 50% line\n",
    "plt.plot([0, 1], [0, 1], 'k--')\n",
    "# Plot the FPR and TPR achieved by our model\n",
    "plt.plot(fpr, tpr)\n",
    "plt.xlabel('False Positive Rate')\n",
    "plt.ylabel('True Positive Rate')\n",
    "plt.title('ROC Curve')\n",
    "plt.show()\n"
   ]
  },
  {
   "cell_type": "markdown",
   "id": "332c277b",
   "metadata": {},
   "source": [
    "In general, the evaluation metrics of logistic model is a little bit better than Random Forest, so we can choose the first one. "
   ]
  },
  {
   "cell_type": "markdown",
   "id": "7627fec8",
   "metadata": {},
   "source": [
    "# Model Deployment"
   ]
  },
  {
   "cell_type": "code",
   "execution_count": 60,
   "id": "09ece849",
   "metadata": {},
   "outputs": [],
   "source": [
    "X_test_1 = loan_test[['Gender','Married','Dependents','Education','Self_Employed','Total_Income_log','Loan_Amount_log','Loan_Amount_Term', 'Credit_History', 'Property_Area']].values"
   ]
  },
  {
   "cell_type": "code",
   "execution_count": 61,
   "id": "c0acb556",
   "metadata": {},
   "outputs": [
    {
     "name": "stdout",
     "output_type": "stream",
     "text": [
      "    Loan_ID  Loan Status\n",
      "0  LP001015            1\n",
      "1  LP001022            1\n",
      "2  LP001031            1\n",
      "3  LP001035            1\n",
      "4  LP001051            1\n"
     ]
    }
   ],
   "source": [
    "model.fit(X, y)\n",
    "\n",
    "predictions= model.predict(X_test_1)\n",
    "result = pd.DataFrame({\"Loan_ID\": loan_test['Loan_ID'], \"Loan Status\": predictions})\n",
    "print(result.head())"
   ]
  },
  {
   "cell_type": "code",
   "execution_count": 62,
   "id": "6b39d3f1",
   "metadata": {},
   "outputs": [],
   "source": [
    "pd.DataFrame(result).to_csv(\"loan_prediction_by_Emma.csv\", index=False)"
   ]
  }
 ],
 "metadata": {
  "kernelspec": {
   "display_name": "Python 3",
   "language": "python",
   "name": "python3"
  },
  "language_info": {
   "codemirror_mode": {
    "name": "ipython",
    "version": 3
   },
   "file_extension": ".py",
   "mimetype": "text/x-python",
   "name": "python",
   "nbconvert_exporter": "python",
   "pygments_lexer": "ipython3",
   "version": "3.8.8"
  }
 },
 "nbformat": 4,
 "nbformat_minor": 5
}
